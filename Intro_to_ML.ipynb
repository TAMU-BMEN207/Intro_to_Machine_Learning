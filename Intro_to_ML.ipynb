{
 "cells": [
  {
   "cell_type": "markdown",
   "id": "4d6836f3",
   "metadata": {},
   "source": [
    "# Introduction to Machine Learning With Python"
   ]
  },
  {
   "cell_type": "markdown",
   "id": "4b1dcc5f",
   "metadata": {},
   "source": [
    "@author Annice <br>\n",
    "\n",
    "Date: 091421  \n",
    "Texas A&M University  \n",
    "BMEN 207\n",
    "\n",
    "***"
   ]
  },
  {
   "cell_type": "markdown",
   "id": "f8d4526a",
   "metadata": {},
   "source": [
    "<img style = \"border-radius: 50%;\" src=\"https://upload.wikimedia.org/wikipedia/en/c/c6/NeoTheMatrix.jpg\" height=100, width=200 alt=\"2020 Porsche 911 Carrera 4S Cabriolet\">"
   ]
  },
  {
   "cell_type": "markdown",
   "id": "33accd18",
   "metadata": {},
   "source": [
    "<h2>Terminology</h2>\n",
    "<h3>What is artificial intelligence?!</h3><br>\n",
    "According to Britannica: The ability of a computer to do do tasks usually done by humans. Examples: Recognizing objects, painting pictures, cleaning a room. <br>\n",
    "<img style = \"border-radius: 10%;\" src=\"obj-recognition.jpg\" height=500, width=500 alt=\"obj-rec\">\n",
    "<h3>What is machine learning?!</h3><br>\n",
    "It is a branch of artificial intelligence that allows computers to learn patterns from data with minimal interactions with humans.\n",
    "<img style = \"border-radius: 10%;\" src=\"chollet_diagram.png\" height=300, width=300 alt=\"obj-rec\">"
   ]
  },
  {
   "cell_type": "markdown",
   "id": "424ec2ed",
   "metadata": {},
   "source": [
    "<h3>Examples of Machine Learning Algorithms</h3>\n",
    "<br>\n",
    "<strong>Supervised:</strong>\n",
    "<br>\n",
    "You what class each of your data points belong to. For example you have images of cats and dogs and you know which ones are cats and which ones are dogs.\n",
    "<ul>\n",
    "    <li>Linear Regression:<br>\n",
    "            <em>Additional resources: <a href=\"https://www.youtube.com/watch?v=nk2CQITm_eo&t=380s\">StatQuest</a>, \n",
    "        <a href=\"https://machinelearningmastery.com/linear-regression-for-machine-learning/\">Machinelearingmastery, </a>\n",
    "        <a href=\"http://www.stat.yale.edu/Courses/1997-98/101/linreg.htm\">Yale, </a></em>\n",
    "    </li>\n",
    "    <li>Support Vector Machines:<br>\n",
    "    <em>Additional resources: <a href=\"https://towardsdatascience.com/support-vector-machine-introduction-to-machine-learning-algorithms-934a444fca47\">Towardsdatascience</a></li>\n",
    "    <li>Naive Based</li>\n",
    "    <li>Decision Trees</li>\n",
    "    <li>K-nearest Neighbords</li>\n",
    "    <li>Neural Networks</li>\n",
    "    </ul>\n",
    "<strong>Unsupervised:</strong>\n",
    "You have no idea which class every data point belongs to.\n",
    "<ul>\n",
    "    <li>K-means Clustering</li>\n",
    "    <li>Hierarchical Clustering</li>\n",
    "    <li>DBSCAN</li>\n",
    "    <li>Neural Networks</li>\n",
    "    </ul>\n",
    "<br>\n",
    "    "
   ]
  },
  {
   "cell_type": "markdown",
   "id": "8b5891ed",
   "metadata": {},
   "source": [
    "<h3>Typical steps in machine learning:</h3>\n",
    "    <ol>\n",
    "    <li> Determine your dataset (What is the shape of the dataset, how many samples in each class, how large is it?/ Download, import, or visualize ...)</li>\n",
    "    <li> Clean your data (Missing? Outliers? Cannot classify? Duplicates?) </li>\n",
    "    <li> Divide dataset into training and testing data </li>\n",
    "    <li> Build a model </li>\n",
    "    <li> Train the model using the training data </li>\n",
    "    <li> Test the model on test data </li>\n",
    "    <li> Improve the model (Add data, Augment data, change your model, changing the number of epochs, etc) </li>\n",
    "    </ol>"
   ]
  },
  {
   "cell_type": "markdown",
   "id": "99e15466",
   "metadata": {},
   "source": [
    "****"
   ]
  },
  {
   "cell_type": "markdown",
   "id": "b2364ce6",
   "metadata": {},
   "source": [
    "# Example I: Linear Regression"
   ]
  },
  {
   "cell_type": "markdown",
   "id": "ef08b32b",
   "metadata": {},
   "source": [
    "Description: In the following example we build a machine learning model to find disease progression based on clinical data from diabetic patients.<br>\n",
    "```**Note: Linear regression is helpful when the relationship between variables and target value is linear.**```\n",
    "<br>\n",
    "We have a set of X values X<sub>1</sub>, X<sub>2</sub>, X<sub>3</sub>, X<sub>4</sub>, ..., X<sub>n</sub>\n",
    "For each of these X values we have a corresponding Y value:<br><br>\n",
    "X<sub>1</sub> -> Y<sub>1</sub> <br>\n",
    "X<sub>2</sub> -> Y<sub>2</sub><br>\n",
    "X<sub>3</sub> -> Y<sub>3</sub><br>\n",
    "X<sub>4</sub> -> Y<sub>4</sub><br>\n",
    ".<br>\n",
    ".<br>\n",
    ".<br>\n",
    "X<sub>n</sub> -> Y<sub>n</sub>"
   ]
  },
  {
   "cell_type": "markdown",
   "id": "b3fedc32",
   "metadata": {},
   "source": [
    "<h2>Simple Linear Regression</h2><br>\n",
    "<li>Goal: To predict a target value Y based on X values</li>\n",
    "    <li>Objective: Find the equation that best predicts Y as a linear function of X values. </li>\n",
    "    </ul>\n",
    "Y<sub>exp</sub> = b + M*X\n",
    "\n",
    "Question: How to find the optimal parameters b and M to fit Y<sub>exp</sub> to our dataset and minimize the error between our expected value and the actual target (min(Y<sub>exp</sub> - Y<sub>Actual</sub>))?\n",
    "\n",
    "<img style = \"border-radius: 10%;\" src=\"regression_mse.png\" height=400, width=400>\n",
    "\n",
    "**Gradient Descent**\n",
    "<br><br>Gradient descent is an optimization algorithm which is used to find local minima of differential functions. Using gradient descent we iteratively move in the direction of the steepest descent in order to find the optimal parameters. \n",
    "\n",
    "<br>Think of a blind-folded man moving down a mountain. Starting from the top, the fastest way to get to the bottom of the mountain is to move in the steepest descent direction.<br>\n",
    "\n",
    "<img src=\"gradient_descent.png\" width=200>\n",
    "\n",
    "Please see an example of gradient descent below. Note: If you want to do this example in more details it is uploaded on Canvas under extra exercises."
   ]
  },
  {
   "cell_type": "markdown",
   "id": "569108ec",
   "metadata": {},
   "source": [
    "<em>Medical Cost Personal Datasets</em><br>\n",
    "source for dataset <a href =\"https://www.kaggle.com/mirichoi0218/insurance\">Kaggle</a>"
   ]
  },
  {
   "cell_type": "markdown",
   "id": "b519b78a",
   "metadata": {},
   "source": [
    "<ol>\n",
    "    <li>Read the dataset</li>\n",
    "    <li>Visualize the dataset</li>\n",
    "    <li>Fit a random line to the data</li>\n",
    "    <li>Define a function to calculate the Mean Squared Error</li>\n",
    "    <li>Define a function to update weights</li>\n",
    "    <li>Iterate</li>\n",
    "</ol>"
   ]
  },
  {
   "cell_type": "markdown",
   "id": "bd656abc",
   "metadata": {},
   "source": [
    "<em>Step 1. Read the dataset</em>"
   ]
  },
  {
   "cell_type": "code",
   "execution_count": 7,
   "id": "a90745d1",
   "metadata": {},
   "outputs": [
    {
     "data": {
      "text/html": [
       "<div>\n",
       "<style scoped>\n",
       "    .dataframe tbody tr th:only-of-type {\n",
       "        vertical-align: middle;\n",
       "    }\n",
       "\n",
       "    .dataframe tbody tr th {\n",
       "        vertical-align: top;\n",
       "    }\n",
       "\n",
       "    .dataframe thead th {\n",
       "        text-align: right;\n",
       "    }\n",
       "</style>\n",
       "<table border=\"1\" class=\"dataframe\">\n",
       "  <thead>\n",
       "    <tr style=\"text-align: right;\">\n",
       "      <th></th>\n",
       "      <th>age</th>\n",
       "      <th>sex</th>\n",
       "      <th>bmi</th>\n",
       "      <th>children</th>\n",
       "      <th>smoker</th>\n",
       "      <th>region</th>\n",
       "      <th>charges</th>\n",
       "    </tr>\n",
       "  </thead>\n",
       "  <tbody>\n",
       "    <tr>\n",
       "      <th>0</th>\n",
       "      <td>19</td>\n",
       "      <td>female</td>\n",
       "      <td>27.900</td>\n",
       "      <td>0</td>\n",
       "      <td>yes</td>\n",
       "      <td>southwest</td>\n",
       "      <td>16884.92400</td>\n",
       "    </tr>\n",
       "    <tr>\n",
       "      <th>1</th>\n",
       "      <td>18</td>\n",
       "      <td>male</td>\n",
       "      <td>33.770</td>\n",
       "      <td>1</td>\n",
       "      <td>no</td>\n",
       "      <td>southeast</td>\n",
       "      <td>1725.55230</td>\n",
       "    </tr>\n",
       "    <tr>\n",
       "      <th>2</th>\n",
       "      <td>28</td>\n",
       "      <td>male</td>\n",
       "      <td>33.000</td>\n",
       "      <td>3</td>\n",
       "      <td>no</td>\n",
       "      <td>southeast</td>\n",
       "      <td>4449.46200</td>\n",
       "    </tr>\n",
       "    <tr>\n",
       "      <th>3</th>\n",
       "      <td>33</td>\n",
       "      <td>male</td>\n",
       "      <td>22.705</td>\n",
       "      <td>0</td>\n",
       "      <td>no</td>\n",
       "      <td>northwest</td>\n",
       "      <td>21984.47061</td>\n",
       "    </tr>\n",
       "    <tr>\n",
       "      <th>4</th>\n",
       "      <td>32</td>\n",
       "      <td>male</td>\n",
       "      <td>28.880</td>\n",
       "      <td>0</td>\n",
       "      <td>no</td>\n",
       "      <td>northwest</td>\n",
       "      <td>3866.85520</td>\n",
       "    </tr>\n",
       "  </tbody>\n",
       "</table>\n",
       "</div>"
      ],
      "text/plain": [
       "   age     sex     bmi  children smoker     region      charges\n",
       "0   19  female  27.900         0    yes  southwest  16884.92400\n",
       "1   18    male  33.770         1     no  southeast   1725.55230\n",
       "2   28    male  33.000         3     no  southeast   4449.46200\n",
       "3   33    male  22.705         0     no  northwest  21984.47061\n",
       "4   32    male  28.880         0     no  northwest   3866.85520"
      ]
     },
     "execution_count": 7,
     "metadata": {},
     "output_type": "execute_result"
    }
   ],
   "source": [
    "import pandas as pd\n",
    "df = pd.read_csv(\"insurance.csv\")\n",
    "df.head()"
   ]
  },
  {
   "cell_type": "markdown",
   "id": "640e37c9",
   "metadata": {},
   "source": [
    "<em>Step 2. Visualize the data</em>"
   ]
  },
  {
   "cell_type": "code",
   "execution_count": 8,
   "id": "5bea5162",
   "metadata": {},
   "outputs": [
    {
     "data": {
      "text/plain": [
       "<matplotlib.legend.Legend at 0x7ffe6be5cfd0>"
      ]
     },
     "execution_count": 8,
     "metadata": {},
     "output_type": "execute_result"
    },
    {
     "data": {
      "image/png": "[encoded data removed]",
      "text/plain": [
       "<Figure size 432x288 with 1 Axes>"
      ]
     },
     "metadata": {
      "needs_background": "light"
     },
     "output_type": "display_data"
    }
   ],
   "source": [
    "import matplotlib.pyplot as plt\n",
    "df_smokers = df[df['smoker'].eq('yes')]\n",
    "plt.scatter(df_smokers['bmi'], df_smokers['charges'], label=\"Charges vs BMI\")\n",
    "plt.xlabel(\"bmi\")\n",
    "plt.ylabel(\"charges\")\n",
    "plt.title('Smokers Data')\n",
    "plt.legend()"
   ]
  },
  {
   "cell_type": "markdown",
   "id": "227d87a1",
   "metadata": {},
   "source": [
    "<em>Step 3. Fit a random line to our data</em>"
   ]
  },
  {
   "cell_type": "code",
   "execution_count": 9,
   "id": "890e8399",
   "metadata": {
    "scrolled": true
   },
   "outputs": [
    {
     "data": {
      "text/plain": [
       "<matplotlib.legend.Legend at 0x7ffe6bf4e2b0>"
      ]
     },
     "execution_count": 9,
     "metadata": {},
     "output_type": "execute_result"
    },
    {
     "data": {
      "image/png": "[encoded data removed]",
      "text/plain": [
       "<Figure size 1440x360 with 1 Axes>"
      ]
     },
     "metadata": {
      "needs_background": "light"
     },
     "output_type": "display_data"
    }
   ],
   "source": [
    "import matplotlib.pyplot as plt\n",
    "fig, ax = plt.subplots(1, 1, figsize=(20,5))\n",
    "plt.scatter(df_smokers['bmi'], df_smokers['charges'], label=\"Charges vs BMI\")\n",
    "plt.xlabel(\"bmi\")\n",
    "plt.ylabel(\"charges\")\n",
    "plt.title('Smokers Data')\n",
    "#Let's set the limit for the x and y axes based on the previous plots. \n",
    "x0,x1 = 20, 38\n",
    "y0,y1 = 10_000, 60_000\n",
    "ax.set_xlim(x0, x1)\n",
    "ax.set_ylim(y0, y1)\n",
    "ax.set_aspect((x1-x0)/(y1-y0))\n",
    "\n",
    "#Fit a random line to the plot.  \n",
    "slope=2_000\n",
    "intercept = -25_500\n",
    "#so for now we have the fitted line as our model so we can predict insurance charge based on bmi value then try to minimize the mse. \n",
    "pred_y0, pred_y1 = (slope*x0 + intercept, slope*x1 + intercept)\n",
    "ax.plot([x0, x1], [pred_y0, pred_y1], 'r-.', label='Fitted Line')\n",
    "plt.legend()\n",
    "\n",
    "\n",
    "\n"
   ]
  },
  {
   "cell_type": "markdown",
   "id": "4f93e9be",
   "metadata": {},
   "source": [
    "<em>Step 4. Define a function to calculate the MSE</em>"
   ]
  },
  {
   "cell_type": "code",
   "execution_count": 11,
   "id": "8d815188",
   "metadata": {},
   "outputs": [
    {
     "name": "stdout",
     "output_type": "stream",
     "text": [
      "The MSE is 745427590.6389842\n"
     ]
    }
   ],
   "source": [
    "import numpy as np\n",
    "def calculate_mse(X, Y, slope, intercept):\n",
    "    '''\n",
    "    Parameters\n",
    "    ----------\n",
    "    df : Pandas DataFrame\n",
    "        A dataframe containing medical data\n",
    "    slope : float\n",
    "        slope of the line fitted to data\n",
    "    intercept: float\n",
    "        intercept of the line fitted to the data\n",
    "\n",
    "    Returns\n",
    "    -------\n",
    "    float\n",
    "        The mean squared error\n",
    "    '''\n",
    "    X, Y = X.values, Y.values\n",
    "    #find the difference between the predicted value and the actual value\n",
    "    diff = (slope * X + intercept) - Y\n",
    "    #square it and find the average\n",
    "    mse = np.mean(diff**2) \n",
    "    return mse\n",
    "\n",
    "#Let's take a look at what we just did and calculate the MSE using the defined function.\n",
    "mse = calculate_mse(df['bmi'], df['charges'], slope, intercept)\n",
    "print(f\"The MSE is {mse}\")"
   ]
  },
  {
   "cell_type": "markdown",
   "id": "869c87fc",
   "metadata": {},
   "source": [
    "<em>Step 5. Define a function to update weights</em>"
   ]
  },
  {
   "cell_type": "code",
   "execution_count": 12,
   "id": "7d49565e",
   "metadata": {},
   "outputs": [],
   "source": [
    "def update_weights(m, b, X, Y, learning_rate):\n",
    "    '''\n",
    "    Parameters\n",
    "    ----------\n",
    "    m: float\n",
    "        slope of the line fitted to data\n",
    "    b: float\n",
    "        intercept of the line fitted to data\n",
    "    df : Pandas DataFrame\n",
    "        A dataframe containing medical data\n",
    "    learning_rate: float\n",
    "        learning rate of gradient descent\n",
    "\n",
    "    Returns\n",
    "    -------\n",
    "    float\n",
    "        It updates the weights of the line fitted to data\n",
    "    '''\n",
    "    m_prime , b_prime = 0, 0\n",
    "    N = len(X)\n",
    "    #then we should calculate partial derivatives with respect to the slope and intercept. \n",
    "    #Our linear model is y=mx+b where m is the slope and b is the intercept. The mean squared error is obtained from (y-(mx+b))^2/N. So \n",
    "    #partial derivative with respect to m will be -2x(y - (mx + b)) and with respect to b will be -2(y - (mx + b))\n",
    "    for i in range(0,len(X)):\n",
    "        m_prime += -2*X[i] * (Y[i] - (m*X[i] + b))\n",
    "        b_prime += -2*(Y[i] - (m*X[i] + b))\n",
    "\n",
    "    # subtract them from the previous values since the derivatives point in direction of steepest ascent\n",
    "    m -= (m_prime / N) * learning_rate\n",
    "    b -= (b_prime / N) * learning_rate\n",
    "\n",
    "    return m, b"
   ]
  },
  {
   "cell_type": "markdown",
   "id": "9430a90a",
   "metadata": {},
   "source": [
    "<em>Step 6. Iterate</em>"
   ]
  },
  {
   "cell_type": "code",
   "execution_count": 13,
   "id": "9ff20aa0",
   "metadata": {},
   "outputs": [
    {
     "name": "stdout",
     "output_type": "stream",
     "text": [
      "The slope found from gradient descent is 1839.0564335841598 and the intercept is -24862.381709274185. The MSE is 51916999.59842295\n"
     ]
    },
    {
     "data": {
      "image/png": "[encoded data removed]",
      "text/plain": [
       "<Figure size 1440x360 with 1 Axes>"
      ]
     },
     "metadata": {
      "needs_background": "light"
     },
     "output_type": "display_data"
    }
   ],
   "source": [
    "m, b= 2000, -25_000\n",
    "#let's create a variable to store loss\n",
    "loss = []\n",
    "for i in range(0, 150):\n",
    "  df_smokers.reset_index(inplace=True, drop=True)\n",
    "  m, b = update_weights(m, b, df_smokers['bmi'], df_smokers['charges'], 0.001)\n",
    "  mse = calculate_mse(df_smokers['bmi'], df_smokers['charges'], m, b)  \n",
    "  loss.append(mse)\n",
    "  \n",
    "  #Let's set the limit for the x and y axes based on the previous plots. \n",
    "  x0,x1 = 20, 38\n",
    "  y0,y1 = 10_000, 60_000\n",
    "  ax.set_xlim(x0, x1)\n",
    "  ax.set_ylim(y0, y1)\n",
    "  ax.set_aspect((x1-x0)/(y1-y0))\n",
    "\n",
    "  slope = m\n",
    "  intercept = b\n",
    "  pred_y0, pred_y1 = (slope*x0 + intercept, slope*x1 + intercept)\n",
    "#Plot the last iteration\n",
    "fig, ax = plt.subplots(1, 1, figsize=(20,5))\n",
    "plt.scatter(df_smokers['bmi'], df_smokers['charges'], label=\"Charges vs BMI\")\n",
    "plt.xlabel(\"bmi\")\n",
    "plt.ylabel(\"charges\")\n",
    "plt.title('Smokers Data')\n",
    "ax.plot([x0, x1], [pred_y0, pred_y1], 'r-.', label='Fitted Line')  \n",
    "print(f\"The slope found from gradient descent is {m} and the intercept is {b}. The MSE is {mse}\")"
   ]
  },
  {
   "cell_type": "code",
   "execution_count": 15,
   "id": "6e9e8c51",
   "metadata": {},
   "outputs": [
    {
     "data": {
      "text/plain": [
       "<matplotlib.legend.Legend at 0x7ffe6c233c40>"
      ]
     },
     "execution_count": 15,
     "metadata": {},
     "output_type": "execute_result"
    },
    {
     "data": {
      "image/png": "[encoded data removed]",
      "text/plain": [
       "<Figure size 432x288 with 1 Axes>"
      ]
     },
     "metadata": {
      "needs_background": "light"
     },
     "output_type": "display_data"
    }
   ],
   "source": [
    "plt.scatter(range(0, 150), loss, label=\"MSE over Iterations\")\n",
    "plt.xlabel(\"Iterations\")\n",
    "plt.ylabel(\"MSE\")\n",
    "plt.title('Loss Over Iterations')\n",
    "plt.legend()"
   ]
  },
  {
   "cell_type": "code",
   "execution_count": 16,
   "id": "b55c5210",
   "metadata": {},
   "outputs": [
    {
     "name": "stdout",
     "output_type": "stream",
     "text": [
      "The minimum MSE is 534252858.3466372 and the slope and intercept are 1473.106254701421 and -13186.576322762947 respectively\n"
     ]
    }
   ],
   "source": [
    "#Now Let's do the same thing using the linear regression model from Sklearn\n",
    "from sklearn.linear_model import LinearRegression\n",
    "#Initialize a Linear regression model\n",
    "lin_reg = LinearRegression()\n",
    "#fit the model to our data\n",
    "lin_reg.fit(df_smokers['bmi'].values.reshape([-1, 1]), df_smokers['charges'].values)\n",
    "#extract the slope and intercept from the model\n",
    "reg_slope, reg_intercept = lin_reg.coef_[0], lin_reg.intercept_\n",
    "#calculate the mean squared error\n",
    "min_mse = calculate_mse(df['bmi'], df['charges'], reg_slope, reg_intercept)\n",
    "print(f\"The minimum MSE is {min_mse} and the slope and intercept are {reg_slope} and {reg_intercept} respectively\")"
   ]
  },
  {
   "cell_type": "markdown",
   "id": "acbc8bb6",
   "metadata": {},
   "source": [
    "****"
   ]
  },
  {
   "cell_type": "markdown",
   "id": "cb3c75e2",
   "metadata": {},
   "source": [
    "# Diabetes Example"
   ]
  },
  {
   "cell_type": "markdown",
   "id": "3809cbec",
   "metadata": {},
   "source": [
    "<h2>Multivariate Linear Regression</h2>\n",
    "<ul><li>Goal: To predict a target value Y based on a set of X values</li>\n",
    "    <li>Objective: Find the equation that best predicts Y as a linear function of X values. </li>\n",
    "    </ul>\n",
    "Y<sub>exp</sub> = a + b<sub>1</sub>X<sub>1</sub>+b<sub>2</sub>X<sub>2</sub>+b<sub>3</sub>X<sub>3</sub>+..."
   ]
  },
  {
   "cell_type": "markdown",
   "id": "a1d2b1f6",
   "metadata": {},
   "source": [
    "**Reminder**\n",
    "    <ol>\n",
    "    <li> Determine your dataset (What is the shape of the dataset, how many samples in each class, how large is it?/ Download, import, or visualize ...)</li>\n",
    "    <li> Clean your data (Missing? Outliers? Cannot classify? Duplicates?) </li>\n",
    "    <li> Divide dataset into training and testing data </li>\n",
    "    <li> Build a model </li>\n",
    "    <li> Train the model using the training data </li>\n",
    "    <li> Test the model on test data </li>\n",
    "    <li> Improve the model (Add data, Augment data, change your model, changing the number of epochs, etc) </li>\n",
    "    </ol>"
   ]
  },
  {
   "cell_type": "markdown",
   "id": "bbf986db",
   "metadata": {},
   "source": [
    "<h3>Step I: Determine your dataset (What is the shape of the dataset, how large is it?/ Download, import, or visualize ...)</h3>"
   ]
  },
  {
   "cell_type": "code",
   "execution_count": 17,
   "id": "bf138772",
   "metadata": {},
   "outputs": [
    {
     "data": {
      "text/plain": [
       "{'data': array([[ 0.03807591,  0.05068012,  0.06169621, ..., -0.00259226,\n",
       "          0.01990842, -0.01764613],\n",
       "        [-0.00188202, -0.04464164, -0.05147406, ..., -0.03949338,\n",
       "         -0.06832974, -0.09220405],\n",
       "        [ 0.08529891,  0.05068012,  0.04445121, ..., -0.00259226,\n",
       "          0.00286377, -0.02593034],\n",
       "        ...,\n",
       "        [ 0.04170844,  0.05068012, -0.01590626, ..., -0.01107952,\n",
       "         -0.04687948,  0.01549073],\n",
       "        [-0.04547248, -0.04464164,  0.03906215, ...,  0.02655962,\n",
       "          0.04452837, -0.02593034],\n",
       "        [-0.04547248, -0.04464164, -0.0730303 , ..., -0.03949338,\n",
       "         -0.00421986,  0.00306441]]),\n",
       " 'target': array([151.,  75., 141., 206., 135.,  97., 138.,  63., 110., 310., 101.,\n",
       "         69., 179., 185., 118., 171., 166., 144.,  97., 168.,  68.,  49.,\n",
       "         68., 245., 184., 202., 137.,  85., 131., 283., 129.,  59., 341.,\n",
       "         87.,  65., 102., 265., 276., 252.,  90., 100.,  55.,  61.,  92.,\n",
       "        259.,  53., 190., 142.,  75., 142., 155., 225.,  59., 104., 182.,\n",
       "        128.,  52.,  37., 170., 170.,  61., 144.,  52., 128.,  71., 163.,\n",
       "        150.,  97., 160., 178.,  48., 270., 202., 111.,  85.,  42., 170.,\n",
       "        200., 252., 113., 143.,  51.,  52., 210.,  65., 141.,  55., 134.,\n",
       "         42., 111.,  98., 164.,  48.,  96.,  90., 162., 150., 279.,  92.,\n",
       "         83., 128., 102., 302., 198.,  95.,  53., 134., 144., 232.,  81.,\n",
       "        104.,  59., 246., 297., 258., 229., 275., 281., 179., 200., 200.,\n",
       "        173., 180.,  84., 121., 161.,  99., 109., 115., 268., 274., 158.,\n",
       "        107.,  83., 103., 272.,  85., 280., 336., 281., 118., 317., 235.,\n",
       "         60., 174., 259., 178., 128.,  96., 126., 288.,  88., 292.,  71.,\n",
       "        197., 186.,  25.,  84.,  96., 195.,  53., 217., 172., 131., 214.,\n",
       "         59.,  70., 220., 268., 152.,  47.,  74., 295., 101., 151., 127.,\n",
       "        237., 225.,  81., 151., 107.,  64., 138., 185., 265., 101., 137.,\n",
       "        143., 141.,  79., 292., 178.,  91., 116.,  86., 122.,  72., 129.,\n",
       "        142.,  90., 158.,  39., 196., 222., 277.,  99., 196., 202., 155.,\n",
       "         77., 191.,  70.,  73.,  49.,  65., 263., 248., 296., 214., 185.,\n",
       "         78.,  93., 252., 150.,  77., 208.,  77., 108., 160.,  53., 220.,\n",
       "        154., 259.,  90., 246., 124.,  67.,  72., 257., 262., 275., 177.,\n",
       "         71.,  47., 187., 125.,  78.,  51., 258., 215., 303., 243.,  91.,\n",
       "        150., 310., 153., 346.,  63.,  89.,  50.,  39., 103., 308., 116.,\n",
       "        145.,  74.,  45., 115., 264.,  87., 202., 127., 182., 241.,  66.,\n",
       "         94., 283.,  64., 102., 200., 265.,  94., 230., 181., 156., 233.,\n",
       "         60., 219.,  80.,  68., 332., 248.,  84., 200.,  55.,  85.,  89.,\n",
       "         31., 129.,  83., 275.,  65., 198., 236., 253., 124.,  44., 172.,\n",
       "        114., 142., 109., 180., 144., 163., 147.,  97., 220., 190., 109.,\n",
       "        191., 122., 230., 242., 248., 249., 192., 131., 237.,  78., 135.,\n",
       "        244., 199., 270., 164.,  72.,  96., 306.,  91., 214.,  95., 216.,\n",
       "        263., 178., 113., 200., 139., 139.,  88., 148.,  88., 243.,  71.,\n",
       "         77., 109., 272.,  60.,  54., 221.,  90., 311., 281., 182., 321.,\n",
       "         58., 262., 206., 233., 242., 123., 167.,  63., 197.,  71., 168.,\n",
       "        140., 217., 121., 235., 245.,  40.,  52., 104., 132.,  88.,  69.,\n",
       "        219.,  72., 201., 110.,  51., 277.,  63., 118.,  69., 273., 258.,\n",
       "         43., 198., 242., 232., 175.,  93., 168., 275., 293., 281.,  72.,\n",
       "        140., 189., 181., 209., 136., 261., 113., 131., 174., 257.,  55.,\n",
       "         84.,  42., 146., 212., 233.,  91., 111., 152., 120.,  67., 310.,\n",
       "         94., 183.,  66., 173.,  72.,  49.,  64.,  48., 178., 104., 132.,\n",
       "        220.,  57.]),\n",
       " 'frame': None,\n",
       " 'DESCR': '.. _diabetes_dataset:\\n\\nDiabetes dataset\\n----------------\\n\\nTen baseline variables, age, sex, body mass index, average blood\\npressure, and six blood serum measurements were obtained for each of n =\\n442 diabetes patients, as well as the response of interest, a\\nquantitative measure of disease progression one year after baseline.\\n\\n**Data Set Characteristics:**\\n\\n  :Number of Instances: 442\\n\\n  :Number of Attributes: First 10 columns are numeric predictive values\\n\\n  :Target: Column 11 is a quantitative measure of disease progression one year after baseline\\n\\n  :Attribute Information:\\n      - age     age in years\\n      - sex\\n      - bmi     body mass index\\n      - bp      average blood pressure\\n      - s1      tc, T-Cells (a type of white blood cells)\\n      - s2      ldl, low-density lipoproteins\\n      - s3      hdl, high-density lipoproteins\\n      - s4      tch, thyroid stimulating hormone\\n      - s5      ltg, lamotrigine\\n      - s6      glu, blood sugar level\\n\\nNote: Each of these 10 feature variables have been mean centered and scaled by the standard deviation times `n_samples` (i.e. the sum of squares of each column totals 1).\\n\\nSource URL:\\nhttps://www4.stat.ncsu.edu/~boos/var.select/diabetes.html\\n\\nFor more information see:\\nBradley Efron, Trevor Hastie, Iain Johnstone and Robert Tibshirani (2004) \"Least Angle Regression,\" Annals of Statistics (with discussion), 407-499.\\n(https://web.stanford.edu/~hastie/Papers/LARS/LeastAngle_2002.pdf)',\n",
       " 'feature_names': ['age',\n",
       "  'sex',\n",
       "  'bmi',\n",
       "  'bp',\n",
       "  's1',\n",
       "  's2',\n",
       "  's3',\n",
       "  's4',\n",
       "  's5',\n",
       "  's6'],\n",
       " 'data_filename': '/Users/annicenajafi/opt/anaconda3/lib/python3.8/site-packages/sklearn/datasets/data/diabetes_data.csv.gz',\n",
       " 'target_filename': '/Users/annicenajafi/opt/anaconda3/lib/python3.8/site-packages/sklearn/datasets/data/diabetes_target.csv.gz'}"
      ]
     },
     "execution_count": 17,
     "metadata": {},
     "output_type": "execute_result"
    }
   ],
   "source": [
    "#import dataset\n",
    "#Dataset is the diabetes dataset from the sklearn module\n",
    "from sklearn import datasets\n",
    "diabetes = datasets.load_diabetes()\n",
    "diabetes"
   ]
  },
  {
   "cell_type": "code",
   "execution_count": 18,
   "id": "d403c58e",
   "metadata": {},
   "outputs": [],
   "source": [
    "#Question: What type of data does this look like? \n",
    "#Answer: dictionary"
   ]
  },
  {
   "cell_type": "code",
   "execution_count": 19,
   "id": "8eee4fdc",
   "metadata": {
    "scrolled": true
   },
   "outputs": [
    {
     "name": "stdout",
     "output_type": "stream",
     "text": [
      ".. _diabetes_dataset:\n",
      "\n",
      "Diabetes dataset\n",
      "----------------\n",
      "\n",
      "Ten baseline variables, age, sex, body mass index, average blood\n",
      "pressure, and six blood serum measurements were obtained for each of n =\n",
      "442 diabetes patients, as well as the response of interest, a\n",
      "quantitative measure of disease progression one year after baseline.\n",
      "\n",
      "**Data Set Characteristics:**\n",
      "\n",
      "  :Number of Instances: 442\n",
      "\n",
      "  :Number of Attributes: First 10 columns are numeric predictive values\n",
      "\n",
      "  :Target: Column 11 is a quantitative measure of disease progression one year after baseline\n",
      "\n",
      "  :Attribute Information:\n",
      "      - age     age in years\n",
      "      - sex\n",
      "      - bmi     body mass index\n",
      "      - bp      average blood pressure\n",
      "      - s1      tc, T-Cells (a type of white blood cells)\n",
      "      - s2      ldl, low-density lipoproteins\n",
      "      - s3      hdl, high-density lipoproteins\n",
      "      - s4      tch, thyroid stimulating hormone\n",
      "      - s5      ltg, lamotrigine\n",
      "      - s6      glu, blood sugar level\n",
      "\n",
      "Note: Each of these 10 feature variables have been mean centered and scaled by the standard deviation times `n_samples` (i.e. the sum of squares of each column totals 1).\n",
      "\n",
      "Source URL:\n",
      "https://www4.stat.ncsu.edu/~boos/var.select/diabetes.html\n",
      "\n",
      "For more information see:\n",
      "Bradley Efron, Trevor Hastie, Iain Johnstone and Robert Tibshirani (2004) \"Least Angle Regression,\" Annals of Statistics (with discussion), 407-499.\n",
      "(https://web.stanford.edu/~hastie/Papers/LARS/LeastAngle_2002.pdf)\n"
     ]
    }
   ],
   "source": [
    "#Get info about the dataset\n",
    "print(diabetes['DESCR'])"
   ]
  },
  {
   "cell_type": "code",
   "execution_count": 20,
   "id": "ac989511",
   "metadata": {
    "scrolled": true
   },
   "outputs": [
    {
     "data": {
      "text/plain": [
       "['age', 'sex', 'bmi', 'bp', 's1', 's2', 's3', 's4', 's5', 's6']"
      ]
     },
     "execution_count": 20,
     "metadata": {},
     "output_type": "execute_result"
    }
   ],
   "source": [
    "#Let's try getting the feature names from the dictionary\n",
    "diabetes['feature_names']"
   ]
  },
  {
   "cell_type": "code",
   "execution_count": 21,
   "id": "83e48788",
   "metadata": {},
   "outputs": [],
   "source": [
    "#Okay... Now let's extract our data\n",
    "data = diabetes['data']\n",
    "target = diabetes['target']"
   ]
  },
  {
   "cell_type": "code",
   "execution_count": 22,
   "id": "0c6d02bc",
   "metadata": {},
   "outputs": [
    {
     "name": "stdout",
     "output_type": "stream",
     "text": [
      "(442, 10)\n",
      "(442,)\n"
     ]
    }
   ],
   "source": [
    "#Now that we have imported the dataset, let's look at the shape of our dataset\n",
    "print(data.shape)\n",
    "#Your turn print the shape of the target\n",
    "print(target.shape)"
   ]
  },
  {
   "cell_type": "code",
   "execution_count": 23,
   "id": "a43c1c78",
   "metadata": {},
   "outputs": [],
   "source": [
    "#Do you mind if we use Pandas a little bit? \n",
    "#import pandas\n",
    "import pandas as pd"
   ]
  },
  {
   "cell_type": "code",
   "execution_count": 24,
   "id": "ac12b67e",
   "metadata": {},
   "outputs": [],
   "source": [
    "#convert data into a dataframe\n",
    "df = pd.DataFrame(data)\n",
    "#add the target value\n",
    "df['target'] = target\n",
    "#rename columns\n",
    "new_cols = diabetes['feature_names'] + [\"target\"]\n",
    "df.columns = new_cols"
   ]
  },
  {
   "cell_type": "code",
   "execution_count": 25,
   "id": "0a243938",
   "metadata": {},
   "outputs": [
    {
     "data": {
      "text/html": [
       "<div>\n",
       "<style scoped>\n",
       "    .dataframe tbody tr th:only-of-type {\n",
       "        vertical-align: middle;\n",
       "    }\n",
       "\n",
       "    .dataframe tbody tr th {\n",
       "        vertical-align: top;\n",
       "    }\n",
       "\n",
       "    .dataframe thead th {\n",
       "        text-align: right;\n",
       "    }\n",
       "</style>\n",
       "<table border=\"1\" class=\"dataframe\">\n",
       "  <thead>\n",
       "    <tr style=\"text-align: right;\">\n",
       "      <th></th>\n",
       "      <th>age</th>\n",
       "      <th>sex</th>\n",
       "      <th>bmi</th>\n",
       "      <th>bp</th>\n",
       "      <th>s1</th>\n",
       "      <th>s2</th>\n",
       "      <th>s3</th>\n",
       "      <th>s4</th>\n",
       "      <th>s5</th>\n",
       "      <th>s6</th>\n",
       "      <th>target</th>\n",
       "    </tr>\n",
       "  </thead>\n",
       "  <tbody>\n",
       "    <tr>\n",
       "      <th>0</th>\n",
       "      <td>0.038076</td>\n",
       "      <td>0.050680</td>\n",
       "      <td>0.061696</td>\n",
       "      <td>0.021872</td>\n",
       "      <td>-0.044223</td>\n",
       "      <td>-0.034821</td>\n",
       "      <td>-0.043401</td>\n",
       "      <td>-0.002592</td>\n",
       "      <td>0.019908</td>\n",
       "      <td>-0.017646</td>\n",
       "      <td>151.0</td>\n",
       "    </tr>\n",
       "    <tr>\n",
       "      <th>1</th>\n",
       "      <td>-0.001882</td>\n",
       "      <td>-0.044642</td>\n",
       "      <td>-0.051474</td>\n",
       "      <td>-0.026328</td>\n",
       "      <td>-0.008449</td>\n",
       "      <td>-0.019163</td>\n",
       "      <td>0.074412</td>\n",
       "      <td>-0.039493</td>\n",
       "      <td>-0.068330</td>\n",
       "      <td>-0.092204</td>\n",
       "      <td>75.0</td>\n",
       "    </tr>\n",
       "    <tr>\n",
       "      <th>2</th>\n",
       "      <td>0.085299</td>\n",
       "      <td>0.050680</td>\n",
       "      <td>0.044451</td>\n",
       "      <td>-0.005671</td>\n",
       "      <td>-0.045599</td>\n",
       "      <td>-0.034194</td>\n",
       "      <td>-0.032356</td>\n",
       "      <td>-0.002592</td>\n",
       "      <td>0.002864</td>\n",
       "      <td>-0.025930</td>\n",
       "      <td>141.0</td>\n",
       "    </tr>\n",
       "    <tr>\n",
       "      <th>3</th>\n",
       "      <td>-0.089063</td>\n",
       "      <td>-0.044642</td>\n",
       "      <td>-0.011595</td>\n",
       "      <td>-0.036656</td>\n",
       "      <td>0.012191</td>\n",
       "      <td>0.024991</td>\n",
       "      <td>-0.036038</td>\n",
       "      <td>0.034309</td>\n",
       "      <td>0.022692</td>\n",
       "      <td>-0.009362</td>\n",
       "      <td>206.0</td>\n",
       "    </tr>\n",
       "    <tr>\n",
       "      <th>4</th>\n",
       "      <td>0.005383</td>\n",
       "      <td>-0.044642</td>\n",
       "      <td>-0.036385</td>\n",
       "      <td>0.021872</td>\n",
       "      <td>0.003935</td>\n",
       "      <td>0.015596</td>\n",
       "      <td>0.008142</td>\n",
       "      <td>-0.002592</td>\n",
       "      <td>-0.031991</td>\n",
       "      <td>-0.046641</td>\n",
       "      <td>135.0</td>\n",
       "    </tr>\n",
       "  </tbody>\n",
       "</table>\n",
       "</div>"
      ],
      "text/plain": [
       "        age       sex       bmi        bp        s1        s2        s3  \\\n",
       "0  0.038076  0.050680  0.061696  0.021872 -0.044223 -0.034821 -0.043401   \n",
       "1 -0.001882 -0.044642 -0.051474 -0.026328 -0.008449 -0.019163  0.074412   \n",
       "2  0.085299  0.050680  0.044451 -0.005671 -0.045599 -0.034194 -0.032356   \n",
       "3 -0.089063 -0.044642 -0.011595 -0.036656  0.012191  0.024991 -0.036038   \n",
       "4  0.005383 -0.044642 -0.036385  0.021872  0.003935  0.015596  0.008142   \n",
       "\n",
       "         s4        s5        s6  target  \n",
       "0 -0.002592  0.019908 -0.017646   151.0  \n",
       "1 -0.039493 -0.068330 -0.092204    75.0  \n",
       "2 -0.002592  0.002864 -0.025930   141.0  \n",
       "3  0.034309  0.022692 -0.009362   206.0  \n",
       "4 -0.002592 -0.031991 -0.046641   135.0  "
      ]
     },
     "execution_count": 25,
     "metadata": {},
     "output_type": "execute_result"
    }
   ],
   "source": [
    "#Let's take a look at the df\n",
    "df.head()"
   ]
  },
  {
   "cell_type": "code",
   "execution_count": 26,
   "id": "4bc63f78",
   "metadata": {
    "scrolled": false
   },
   "outputs": [
    {
     "data": {
      "text/html": [
       "<div>\n",
       "<style scoped>\n",
       "    .dataframe tbody tr th:only-of-type {\n",
       "        vertical-align: middle;\n",
       "    }\n",
       "\n",
       "    .dataframe tbody tr th {\n",
       "        vertical-align: top;\n",
       "    }\n",
       "\n",
       "    .dataframe thead th {\n",
       "        text-align: right;\n",
       "    }\n",
       "</style>\n",
       "<table border=\"1\" class=\"dataframe\">\n",
       "  <thead>\n",
       "    <tr style=\"text-align: right;\">\n",
       "      <th></th>\n",
       "      <th>age</th>\n",
       "      <th>sex</th>\n",
       "      <th>bmi</th>\n",
       "      <th>bp</th>\n",
       "      <th>s1</th>\n",
       "      <th>s2</th>\n",
       "      <th>s3</th>\n",
       "      <th>s4</th>\n",
       "      <th>s5</th>\n",
       "      <th>s6</th>\n",
       "      <th>target</th>\n",
       "    </tr>\n",
       "  </thead>\n",
       "  <tbody>\n",
       "    <tr>\n",
       "      <th>count</th>\n",
       "      <td>4.420000e+02</td>\n",
       "      <td>4.420000e+02</td>\n",
       "      <td>4.420000e+02</td>\n",
       "      <td>4.420000e+02</td>\n",
       "      <td>4.420000e+02</td>\n",
       "      <td>4.420000e+02</td>\n",
       "      <td>4.420000e+02</td>\n",
       "      <td>4.420000e+02</td>\n",
       "      <td>4.420000e+02</td>\n",
       "      <td>4.420000e+02</td>\n",
       "      <td>442.000000</td>\n",
       "    </tr>\n",
       "    <tr>\n",
       "      <th>mean</th>\n",
       "      <td>-3.634285e-16</td>\n",
       "      <td>1.308343e-16</td>\n",
       "      <td>-8.045349e-16</td>\n",
       "      <td>1.281655e-16</td>\n",
       "      <td>-8.835316e-17</td>\n",
       "      <td>1.327024e-16</td>\n",
       "      <td>-4.574646e-16</td>\n",
       "      <td>3.777301e-16</td>\n",
       "      <td>-3.830854e-16</td>\n",
       "      <td>-3.412882e-16</td>\n",
       "      <td>152.133484</td>\n",
       "    </tr>\n",
       "    <tr>\n",
       "      <th>std</th>\n",
       "      <td>4.761905e-02</td>\n",
       "      <td>4.761905e-02</td>\n",
       "      <td>4.761905e-02</td>\n",
       "      <td>4.761905e-02</td>\n",
       "      <td>4.761905e-02</td>\n",
       "      <td>4.761905e-02</td>\n",
       "      <td>4.761905e-02</td>\n",
       "      <td>4.761905e-02</td>\n",
       "      <td>4.761905e-02</td>\n",
       "      <td>4.761905e-02</td>\n",
       "      <td>77.093005</td>\n",
       "    </tr>\n",
       "    <tr>\n",
       "      <th>min</th>\n",
       "      <td>-1.072256e-01</td>\n",
       "      <td>-4.464164e-02</td>\n",
       "      <td>-9.027530e-02</td>\n",
       "      <td>-1.123996e-01</td>\n",
       "      <td>-1.267807e-01</td>\n",
       "      <td>-1.156131e-01</td>\n",
       "      <td>-1.023071e-01</td>\n",
       "      <td>-7.639450e-02</td>\n",
       "      <td>-1.260974e-01</td>\n",
       "      <td>-1.377672e-01</td>\n",
       "      <td>25.000000</td>\n",
       "    </tr>\n",
       "    <tr>\n",
       "      <th>25%</th>\n",
       "      <td>-3.729927e-02</td>\n",
       "      <td>-4.464164e-02</td>\n",
       "      <td>-3.422907e-02</td>\n",
       "      <td>-3.665645e-02</td>\n",
       "      <td>-3.424784e-02</td>\n",
       "      <td>-3.035840e-02</td>\n",
       "      <td>-3.511716e-02</td>\n",
       "      <td>-3.949338e-02</td>\n",
       "      <td>-3.324879e-02</td>\n",
       "      <td>-3.317903e-02</td>\n",
       "      <td>87.000000</td>\n",
       "    </tr>\n",
       "    <tr>\n",
       "      <th>50%</th>\n",
       "      <td>5.383060e-03</td>\n",
       "      <td>-4.464164e-02</td>\n",
       "      <td>-7.283766e-03</td>\n",
       "      <td>-5.670611e-03</td>\n",
       "      <td>-4.320866e-03</td>\n",
       "      <td>-3.819065e-03</td>\n",
       "      <td>-6.584468e-03</td>\n",
       "      <td>-2.592262e-03</td>\n",
       "      <td>-1.947634e-03</td>\n",
       "      <td>-1.077698e-03</td>\n",
       "      <td>140.500000</td>\n",
       "    </tr>\n",
       "    <tr>\n",
       "      <th>75%</th>\n",
       "      <td>3.807591e-02</td>\n",
       "      <td>5.068012e-02</td>\n",
       "      <td>3.124802e-02</td>\n",
       "      <td>3.564384e-02</td>\n",
       "      <td>2.835801e-02</td>\n",
       "      <td>2.984439e-02</td>\n",
       "      <td>2.931150e-02</td>\n",
       "      <td>3.430886e-02</td>\n",
       "      <td>3.243323e-02</td>\n",
       "      <td>2.791705e-02</td>\n",
       "      <td>211.500000</td>\n",
       "    </tr>\n",
       "    <tr>\n",
       "      <th>max</th>\n",
       "      <td>1.107267e-01</td>\n",
       "      <td>5.068012e-02</td>\n",
       "      <td>1.705552e-01</td>\n",
       "      <td>1.320442e-01</td>\n",
       "      <td>1.539137e-01</td>\n",
       "      <td>1.987880e-01</td>\n",
       "      <td>1.811791e-01</td>\n",
       "      <td>1.852344e-01</td>\n",
       "      <td>1.335990e-01</td>\n",
       "      <td>1.356118e-01</td>\n",
       "      <td>346.000000</td>\n",
       "    </tr>\n",
       "  </tbody>\n",
       "</table>\n",
       "</div>"
      ],
      "text/plain": [
       "                age           sex           bmi            bp            s1  \\\n",
       "count  4.420000e+02  4.420000e+02  4.420000e+02  4.420000e+02  4.420000e+02   \n",
       "mean  -3.634285e-16  1.308343e-16 -8.045349e-16  1.281655e-16 -8.835316e-17   \n",
       "std    4.761905e-02  4.761905e-02  4.761905e-02  4.761905e-02  4.761905e-02   \n",
       "min   -1.072256e-01 -4.464164e-02 -9.027530e-02 -1.123996e-01 -1.267807e-01   \n",
       "25%   -3.729927e-02 -4.464164e-02 -3.422907e-02 -3.665645e-02 -3.424784e-02   \n",
       "50%    5.383060e-03 -4.464164e-02 -7.283766e-03 -5.670611e-03 -4.320866e-03   \n",
       "75%    3.807591e-02  5.068012e-02  3.124802e-02  3.564384e-02  2.835801e-02   \n",
       "max    1.107267e-01  5.068012e-02  1.705552e-01  1.320442e-01  1.539137e-01   \n",
       "\n",
       "                 s2            s3            s4            s5            s6  \\\n",
       "count  4.420000e+02  4.420000e+02  4.420000e+02  4.420000e+02  4.420000e+02   \n",
       "mean   1.327024e-16 -4.574646e-16  3.777301e-16 -3.830854e-16 -3.412882e-16   \n",
       "std    4.761905e-02  4.761905e-02  4.761905e-02  4.761905e-02  4.761905e-02   \n",
       "min   -1.156131e-01 -1.023071e-01 -7.639450e-02 -1.260974e-01 -1.377672e-01   \n",
       "25%   -3.035840e-02 -3.511716e-02 -3.949338e-02 -3.324879e-02 -3.317903e-02   \n",
       "50%   -3.819065e-03 -6.584468e-03 -2.592262e-03 -1.947634e-03 -1.077698e-03   \n",
       "75%    2.984439e-02  2.931150e-02  3.430886e-02  3.243323e-02  2.791705e-02   \n",
       "max    1.987880e-01  1.811791e-01  1.852344e-01  1.335990e-01  1.356118e-01   \n",
       "\n",
       "           target  \n",
       "count  442.000000  \n",
       "mean   152.133484  \n",
       "std     77.093005  \n",
       "min     25.000000  \n",
       "25%     87.000000  \n",
       "50%    140.500000  \n",
       "75%    211.500000  \n",
       "max    346.000000  "
      ]
     },
     "execution_count": 26,
     "metadata": {},
     "output_type": "execute_result"
    }
   ],
   "source": [
    "#Use the describe function to look at the distribution of each column\n",
    "df.describe()"
   ]
  },
  {
   "cell_type": "markdown",
   "id": "23471318",
   "metadata": {},
   "source": [
    "<h3>Step II: Clean your data (Missing? Outliers? Cannot classify? Duplicates?)</h3>"
   ]
  },
  {
   "cell_type": "code",
   "execution_count": 27,
   "id": "50107e55",
   "metadata": {},
   "outputs": [
    {
     "name": "stdout",
     "output_type": "stream",
     "text": [
      "No duplicates\n"
     ]
    }
   ],
   "source": [
    "#Check for duplicates\n",
    "dups = len(df[df.duplicated()])\n",
    "if dups ==0:\n",
    "    print(\"No duplicates\")"
   ]
  },
  {
   "cell_type": "code",
   "execution_count": 28,
   "id": "6eda0af3",
   "metadata": {},
   "outputs": [
    {
     "name": "stdout",
     "output_type": "stream",
     "text": [
      "No missing values were found.\n"
     ]
    }
   ],
   "source": [
    "#Let's check if we have any missing values?!\n",
    "data_sum = np.sum(data)\n",
    "data_nan = np.isnan(data_sum)\n",
    "print(\"No missing values were found.\") if not data_nan else print(\"Missing values were found.\")"
   ]
  },
  {
   "cell_type": "markdown",
   "id": "ba29fecf",
   "metadata": {},
   "source": [
    "<h3> Step III: Divide dataset into training and testing data</h3>"
   ]
  },
  {
   "cell_type": "markdown",
   "id": "6a82548d",
   "metadata": {},
   "source": [
    "<em>Method I: using Sklearn</em>"
   ]
  },
  {
   "cell_type": "code",
   "execution_count": 29,
   "id": "8ec2d649",
   "metadata": {},
   "outputs": [],
   "source": [
    "#split using the train_test_split function\n",
    "from sklearn.model_selection import train_test_split\n",
    "X_train, X_test, Y_train, Y_test = train_test_split(data, target, test_size=0.2)"
   ]
  },
  {
   "cell_type": "code",
   "execution_count": 30,
   "id": "250496d5",
   "metadata": {},
   "outputs": [
    {
     "data": {
      "text/plain": [
       "0.7986425339366516"
      ]
     },
     "execution_count": 30,
     "metadata": {},
     "output_type": "execute_result"
    }
   ],
   "source": [
    "len(X_train)/len(data)"
   ]
  },
  {
   "cell_type": "code",
   "execution_count": 31,
   "id": "f5b44809",
   "metadata": {},
   "outputs": [
    {
     "data": {
      "text/plain": [
       "353"
      ]
     },
     "execution_count": 31,
     "metadata": {},
     "output_type": "execute_result"
    }
   ],
   "source": [
    "len(X_train)"
   ]
  },
  {
   "cell_type": "markdown",
   "id": "3d6a6eb2",
   "metadata": {},
   "source": [
    "<em>Method II: Do it manually on your Pandas df</em>"
   ]
  },
  {
   "cell_type": "code",
   "execution_count": 32,
   "id": "5074dd4d",
   "metadata": {},
   "outputs": [],
   "source": [
    "#first shuffle your dataframe\n",
    "from sklearn.utils import shuffle\n",
    "df = shuffle(df)\n",
    "#reset the index\n",
    "df.reset_index(inplace=True, drop=True)"
   ]
  },
  {
   "cell_type": "code",
   "execution_count": 33,
   "id": "eacfa023",
   "metadata": {},
   "outputs": [],
   "source": [
    "train = df[0:(round(0.8*len(df)))]\n",
    "test = df[(round(0.8*len(df))):len(df)]"
   ]
  },
  {
   "cell_type": "code",
   "execution_count": 34,
   "id": "56060bdf",
   "metadata": {},
   "outputs": [
    {
     "data": {
      "text/html": [
       "<div>\n",
       "<style scoped>\n",
       "    .dataframe tbody tr th:only-of-type {\n",
       "        vertical-align: middle;\n",
       "    }\n",
       "\n",
       "    .dataframe tbody tr th {\n",
       "        vertical-align: top;\n",
       "    }\n",
       "\n",
       "    .dataframe thead th {\n",
       "        text-align: right;\n",
       "    }\n",
       "</style>\n",
       "<table border=\"1\" class=\"dataframe\">\n",
       "  <thead>\n",
       "    <tr style=\"text-align: right;\">\n",
       "      <th></th>\n",
       "      <th>age</th>\n",
       "      <th>sex</th>\n",
       "      <th>bmi</th>\n",
       "      <th>bp</th>\n",
       "      <th>s1</th>\n",
       "      <th>s2</th>\n",
       "      <th>s3</th>\n",
       "      <th>s4</th>\n",
       "      <th>s5</th>\n",
       "      <th>s6</th>\n",
       "      <th>target</th>\n",
       "    </tr>\n",
       "  </thead>\n",
       "  <tbody>\n",
       "    <tr>\n",
       "      <th>354</th>\n",
       "      <td>-0.005515</td>\n",
       "      <td>-0.044642</td>\n",
       "      <td>0.023973</td>\n",
       "      <td>0.008101</td>\n",
       "      <td>-0.034592</td>\n",
       "      <td>-0.038892</td>\n",
       "      <td>0.022869</td>\n",
       "      <td>-0.039493</td>\n",
       "      <td>-0.015998</td>\n",
       "      <td>-0.013504</td>\n",
       "      <td>121.0</td>\n",
       "    </tr>\n",
       "    <tr>\n",
       "      <th>355</th>\n",
       "      <td>0.063504</td>\n",
       "      <td>-0.044642</td>\n",
       "      <td>0.017506</td>\n",
       "      <td>0.021872</td>\n",
       "      <td>0.008063</td>\n",
       "      <td>0.021546</td>\n",
       "      <td>-0.036038</td>\n",
       "      <td>0.034309</td>\n",
       "      <td>0.019908</td>\n",
       "      <td>0.011349</td>\n",
       "      <td>173.0</td>\n",
       "    </tr>\n",
       "    <tr>\n",
       "      <th>356</th>\n",
       "      <td>0.041708</td>\n",
       "      <td>-0.044642</td>\n",
       "      <td>-0.064408</td>\n",
       "      <td>0.035644</td>\n",
       "      <td>0.012191</td>\n",
       "      <td>-0.057994</td>\n",
       "      <td>0.181179</td>\n",
       "      <td>-0.076395</td>\n",
       "      <td>-0.000609</td>\n",
       "      <td>-0.050783</td>\n",
       "      <td>170.0</td>\n",
       "    </tr>\n",
       "    <tr>\n",
       "      <th>357</th>\n",
       "      <td>-0.045472</td>\n",
       "      <td>0.050680</td>\n",
       "      <td>0.137143</td>\n",
       "      <td>-0.015999</td>\n",
       "      <td>0.041086</td>\n",
       "      <td>0.031880</td>\n",
       "      <td>-0.043401</td>\n",
       "      <td>0.071210</td>\n",
       "      <td>0.071022</td>\n",
       "      <td>0.048628</td>\n",
       "      <td>233.0</td>\n",
       "    </tr>\n",
       "    <tr>\n",
       "      <th>358</th>\n",
       "      <td>-0.012780</td>\n",
       "      <td>-0.044642</td>\n",
       "      <td>-0.023451</td>\n",
       "      <td>-0.040099</td>\n",
       "      <td>-0.016704</td>\n",
       "      <td>0.004636</td>\n",
       "      <td>-0.017629</td>\n",
       "      <td>-0.002592</td>\n",
       "      <td>-0.038459</td>\n",
       "      <td>-0.038357</td>\n",
       "      <td>64.0</td>\n",
       "    </tr>\n",
       "    <tr>\n",
       "      <th>...</th>\n",
       "      <td>...</td>\n",
       "      <td>...</td>\n",
       "      <td>...</td>\n",
       "      <td>...</td>\n",
       "      <td>...</td>\n",
       "      <td>...</td>\n",
       "      <td>...</td>\n",
       "      <td>...</td>\n",
       "      <td>...</td>\n",
       "      <td>...</td>\n",
       "      <td>...</td>\n",
       "    </tr>\n",
       "    <tr>\n",
       "      <th>437</th>\n",
       "      <td>0.045341</td>\n",
       "      <td>0.050680</td>\n",
       "      <td>-0.035307</td>\n",
       "      <td>0.063187</td>\n",
       "      <td>-0.004321</td>\n",
       "      <td>-0.001627</td>\n",
       "      <td>-0.010266</td>\n",
       "      <td>-0.002592</td>\n",
       "      <td>0.015567</td>\n",
       "      <td>0.056912</td>\n",
       "      <td>185.0</td>\n",
       "    </tr>\n",
       "    <tr>\n",
       "      <th>438</th>\n",
       "      <td>-0.056370</td>\n",
       "      <td>-0.044642</td>\n",
       "      <td>-0.011595</td>\n",
       "      <td>-0.033214</td>\n",
       "      <td>-0.046975</td>\n",
       "      <td>-0.047660</td>\n",
       "      <td>0.004460</td>\n",
       "      <td>-0.039493</td>\n",
       "      <td>-0.007979</td>\n",
       "      <td>-0.088062</td>\n",
       "      <td>190.0</td>\n",
       "    </tr>\n",
       "    <tr>\n",
       "      <th>439</th>\n",
       "      <td>0.074401</td>\n",
       "      <td>0.050680</td>\n",
       "      <td>-0.020218</td>\n",
       "      <td>0.045972</td>\n",
       "      <td>0.074108</td>\n",
       "      <td>0.032819</td>\n",
       "      <td>-0.036038</td>\n",
       "      <td>0.071210</td>\n",
       "      <td>0.106354</td>\n",
       "      <td>0.036201</td>\n",
       "      <td>241.0</td>\n",
       "    </tr>\n",
       "    <tr>\n",
       "      <th>440</th>\n",
       "      <td>-0.049105</td>\n",
       "      <td>-0.044642</td>\n",
       "      <td>0.004572</td>\n",
       "      <td>0.011544</td>\n",
       "      <td>-0.037344</td>\n",
       "      <td>-0.018537</td>\n",
       "      <td>-0.017629</td>\n",
       "      <td>-0.002592</td>\n",
       "      <td>-0.039810</td>\n",
       "      <td>-0.021788</td>\n",
       "      <td>200.0</td>\n",
       "    </tr>\n",
       "    <tr>\n",
       "      <th>441</th>\n",
       "      <td>-0.001882</td>\n",
       "      <td>-0.044642</td>\n",
       "      <td>-0.051474</td>\n",
       "      <td>-0.026328</td>\n",
       "      <td>-0.008449</td>\n",
       "      <td>-0.019163</td>\n",
       "      <td>0.074412</td>\n",
       "      <td>-0.039493</td>\n",
       "      <td>-0.068330</td>\n",
       "      <td>-0.092204</td>\n",
       "      <td>75.0</td>\n",
       "    </tr>\n",
       "  </tbody>\n",
       "</table>\n",
       "<p>88 rows × 11 columns</p>\n",
       "</div>"
      ],
      "text/plain": [
       "          age       sex       bmi        bp        s1        s2        s3  \\\n",
       "354 -0.005515 -0.044642  0.023973  0.008101 -0.034592 -0.038892  0.022869   \n",
       "355  0.063504 -0.044642  0.017506  0.021872  0.008063  0.021546 -0.036038   \n",
       "356  0.041708 -0.044642 -0.064408  0.035644  0.012191 -0.057994  0.181179   \n",
       "357 -0.045472  0.050680  0.137143 -0.015999  0.041086  0.031880 -0.043401   \n",
       "358 -0.012780 -0.044642 -0.023451 -0.040099 -0.016704  0.004636 -0.017629   \n",
       "..        ...       ...       ...       ...       ...       ...       ...   \n",
       "437  0.045341  0.050680 -0.035307  0.063187 -0.004321 -0.001627 -0.010266   \n",
       "438 -0.056370 -0.044642 -0.011595 -0.033214 -0.046975 -0.047660  0.004460   \n",
       "439  0.074401  0.050680 -0.020218  0.045972  0.074108  0.032819 -0.036038   \n",
       "440 -0.049105 -0.044642  0.004572  0.011544 -0.037344 -0.018537 -0.017629   \n",
       "441 -0.001882 -0.044642 -0.051474 -0.026328 -0.008449 -0.019163  0.074412   \n",
       "\n",
       "           s4        s5        s6  target  \n",
       "354 -0.039493 -0.015998 -0.013504   121.0  \n",
       "355  0.034309  0.019908  0.011349   173.0  \n",
       "356 -0.076395 -0.000609 -0.050783   170.0  \n",
       "357  0.071210  0.071022  0.048628   233.0  \n",
       "358 -0.002592 -0.038459 -0.038357    64.0  \n",
       "..        ...       ...       ...     ...  \n",
       "437 -0.002592  0.015567  0.056912   185.0  \n",
       "438 -0.039493 -0.007979 -0.088062   190.0  \n",
       "439  0.071210  0.106354  0.036201   241.0  \n",
       "440 -0.002592 -0.039810 -0.021788   200.0  \n",
       "441 -0.039493 -0.068330 -0.092204    75.0  \n",
       "\n",
       "[88 rows x 11 columns]"
      ]
     },
     "execution_count": 34,
     "metadata": {},
     "output_type": "execute_result"
    }
   ],
   "source": [
    "test"
   ]
  },
  {
   "cell_type": "markdown",
   "id": "169f3955",
   "metadata": {},
   "source": [
    "<h3> Step IV: Build a model </h3>"
   ]
  },
  {
   "cell_type": "code",
   "execution_count": 35,
   "id": "806461ca",
   "metadata": {},
   "outputs": [],
   "source": [
    "from sklearn import linear_model\n",
    "from sklearn.metrics import mean_squared_error, r2_score"
   ]
  },
  {
   "cell_type": "code",
   "execution_count": 36,
   "id": "11b1d7a5",
   "metadata": {},
   "outputs": [],
   "source": [
    "model = linear_model.LinearRegression()"
   ]
  },
  {
   "cell_type": "markdown",
   "id": "5177d190",
   "metadata": {},
   "source": [
    "<h3>Step V: Train the model using the training data</h3>"
   ]
  },
  {
   "cell_type": "code",
   "execution_count": 37,
   "id": "c11b056f",
   "metadata": {},
   "outputs": [
    {
     "data": {
      "text/plain": [
       "LinearRegression()"
      ]
     },
     "execution_count": 37,
     "metadata": {},
     "output_type": "execute_result"
    }
   ],
   "source": [
    "model.fit(train[['age', 'sex', 'bmi', 'bp', 's1', 's2', 's3', 's4', 's5', 's6']], train[['target']])"
   ]
  },
  {
   "cell_type": "markdown",
   "id": "c5c1ebd9",
   "metadata": {},
   "source": [
    "<h3>Step VI: Test the model using the test dataset</h3>"
   ]
  },
  {
   "cell_type": "code",
   "execution_count": 38,
   "id": "1d4bebde",
   "metadata": {},
   "outputs": [],
   "source": [
    "Y_pred = model.predict(test[['age', 'sex', 'bmi', 'bp', 's1', 's2', 's3', 's4', 's5', 's6']])"
   ]
  },
  {
   "cell_type": "markdown",
   "id": "f2a4f0d2",
   "metadata": {},
   "source": [
    "<h3>Step VI: Evaluate model </h3>"
   ]
  },
  {
   "cell_type": "code",
   "execution_count": 39,
   "id": "cea0ecff",
   "metadata": {
    "scrolled": true
   },
   "outputs": [
    {
     "name": "stdout",
     "output_type": "stream",
     "text": [
      "The model coefficients are [[ -23.92046099 -268.60075407  561.76219401  273.22660583 -893.9889391\n",
      "   579.48025227  140.88053807  159.97395894  776.90906586   87.3714758 ]] and the model intercept is [151.64750103]\n"
     ]
    }
   ],
   "source": [
    "print(f\"The model coefficients are {model.coef_} and the model intercept is {model.intercept_}\")"
   ]
  },
  {
   "cell_type": "code",
   "execution_count": 40,
   "id": "e3bc8db4",
   "metadata": {},
   "outputs": [
    {
     "data": {
      "text/plain": [
       "Index(['age', 'sex', 'bmi', 'bp', 's1', 's2', 's3', 's4', 's5', 's6',\n",
       "       'target'],\n",
       "      dtype='object')"
      ]
     },
     "execution_count": 40,
     "metadata": {},
     "output_type": "execute_result"
    }
   ],
   "source": [
    "df.columns"
   ]
  },
  {
   "cell_type": "code",
   "execution_count": 41,
   "id": "a9be7ba7",
   "metadata": {},
   "outputs": [
    {
     "data": {
      "text/plain": [
       "array([[171.13307799],\n",
       "       [200.07710475],\n",
       "       [100.08625468],\n",
       "       [258.23994949],\n",
       "       [121.30509818]])"
      ]
     },
     "execution_count": 41,
     "metadata": {},
     "output_type": "execute_result"
    }
   ],
   "source": [
    "Y_pred[0:5]"
   ]
  },
  {
   "cell_type": "code",
   "execution_count": 42,
   "id": "cd54c3be",
   "metadata": {},
   "outputs": [
    {
     "data": {
      "text/html": [
       "<div>\n",
       "<style scoped>\n",
       "    .dataframe tbody tr th:only-of-type {\n",
       "        vertical-align: middle;\n",
       "    }\n",
       "\n",
       "    .dataframe tbody tr th {\n",
       "        vertical-align: top;\n",
       "    }\n",
       "\n",
       "    .dataframe thead th {\n",
       "        text-align: right;\n",
       "    }\n",
       "</style>\n",
       "<table border=\"1\" class=\"dataframe\">\n",
       "  <thead>\n",
       "    <tr style=\"text-align: right;\">\n",
       "      <th></th>\n",
       "      <th>age</th>\n",
       "      <th>sex</th>\n",
       "      <th>bmi</th>\n",
       "      <th>bp</th>\n",
       "      <th>s1</th>\n",
       "      <th>s2</th>\n",
       "      <th>s3</th>\n",
       "      <th>s4</th>\n",
       "      <th>s5</th>\n",
       "      <th>s6</th>\n",
       "      <th>target</th>\n",
       "    </tr>\n",
       "  </thead>\n",
       "  <tbody>\n",
       "    <tr>\n",
       "      <th>354</th>\n",
       "      <td>-0.005515</td>\n",
       "      <td>-0.044642</td>\n",
       "      <td>0.023973</td>\n",
       "      <td>0.008101</td>\n",
       "      <td>-0.034592</td>\n",
       "      <td>-0.038892</td>\n",
       "      <td>0.022869</td>\n",
       "      <td>-0.039493</td>\n",
       "      <td>-0.015998</td>\n",
       "      <td>-0.013504</td>\n",
       "      <td>121.0</td>\n",
       "    </tr>\n",
       "    <tr>\n",
       "      <th>355</th>\n",
       "      <td>0.063504</td>\n",
       "      <td>-0.044642</td>\n",
       "      <td>0.017506</td>\n",
       "      <td>0.021872</td>\n",
       "      <td>0.008063</td>\n",
       "      <td>0.021546</td>\n",
       "      <td>-0.036038</td>\n",
       "      <td>0.034309</td>\n",
       "      <td>0.019908</td>\n",
       "      <td>0.011349</td>\n",
       "      <td>173.0</td>\n",
       "    </tr>\n",
       "    <tr>\n",
       "      <th>356</th>\n",
       "      <td>0.041708</td>\n",
       "      <td>-0.044642</td>\n",
       "      <td>-0.064408</td>\n",
       "      <td>0.035644</td>\n",
       "      <td>0.012191</td>\n",
       "      <td>-0.057994</td>\n",
       "      <td>0.181179</td>\n",
       "      <td>-0.076395</td>\n",
       "      <td>-0.000609</td>\n",
       "      <td>-0.050783</td>\n",
       "      <td>170.0</td>\n",
       "    </tr>\n",
       "    <tr>\n",
       "      <th>357</th>\n",
       "      <td>-0.045472</td>\n",
       "      <td>0.050680</td>\n",
       "      <td>0.137143</td>\n",
       "      <td>-0.015999</td>\n",
       "      <td>0.041086</td>\n",
       "      <td>0.031880</td>\n",
       "      <td>-0.043401</td>\n",
       "      <td>0.071210</td>\n",
       "      <td>0.071022</td>\n",
       "      <td>0.048628</td>\n",
       "      <td>233.0</td>\n",
       "    </tr>\n",
       "    <tr>\n",
       "      <th>358</th>\n",
       "      <td>-0.012780</td>\n",
       "      <td>-0.044642</td>\n",
       "      <td>-0.023451</td>\n",
       "      <td>-0.040099</td>\n",
       "      <td>-0.016704</td>\n",
       "      <td>0.004636</td>\n",
       "      <td>-0.017629</td>\n",
       "      <td>-0.002592</td>\n",
       "      <td>-0.038459</td>\n",
       "      <td>-0.038357</td>\n",
       "      <td>64.0</td>\n",
       "    </tr>\n",
       "  </tbody>\n",
       "</table>\n",
       "</div>"
      ],
      "text/plain": [
       "          age       sex       bmi        bp        s1        s2        s3  \\\n",
       "354 -0.005515 -0.044642  0.023973  0.008101 -0.034592 -0.038892  0.022869   \n",
       "355  0.063504 -0.044642  0.017506  0.021872  0.008063  0.021546 -0.036038   \n",
       "356  0.041708 -0.044642 -0.064408  0.035644  0.012191 -0.057994  0.181179   \n",
       "357 -0.045472  0.050680  0.137143 -0.015999  0.041086  0.031880 -0.043401   \n",
       "358 -0.012780 -0.044642 -0.023451 -0.040099 -0.016704  0.004636 -0.017629   \n",
       "\n",
       "           s4        s5        s6  target  \n",
       "354 -0.039493 -0.015998 -0.013504   121.0  \n",
       "355  0.034309  0.019908  0.011349   173.0  \n",
       "356 -0.076395 -0.000609 -0.050783   170.0  \n",
       "357  0.071210  0.071022  0.048628   233.0  \n",
       "358 -0.002592 -0.038459 -0.038357    64.0  "
      ]
     },
     "execution_count": 42,
     "metadata": {},
     "output_type": "execute_result"
    }
   ],
   "source": [
    "test[0:5]"
   ]
  },
  {
   "cell_type": "markdown",
   "id": "29ccd6be",
   "metadata": {},
   "source": [
    "<a href=https://scikit-learn.org/stable/modules/classes.html#regression-metrics>How do I evaluate my model?</a>"
   ]
  },
  {
   "cell_type": "code",
   "execution_count": 43,
   "id": "387aecd5",
   "metadata": {},
   "outputs": [
    {
     "data": {
      "text/plain": [
       "43.48687791835326"
      ]
     },
     "execution_count": 43,
     "metadata": {},
     "output_type": "execute_result"
    }
   ],
   "source": [
    "from sklearn.metrics import mean_absolute_error\n",
    "mean_absolute_error(test['target'], Y_pred)"
   ]
  },
  {
   "cell_type": "markdown",
   "id": "839cb711",
   "metadata": {},
   "source": [
    "Note: Scikit-learn has a detailed documentation on linear regression and functions you can use to train and evaluate a model\n",
    "    <a href=\"https://scikit-learn.org/stable/modules/classes.html#regression-metrics\">Click here to see!</a>"
   ]
  },
  {
   "cell_type": "markdown",
   "id": "f645ec35",
   "metadata": {},
   "source": [
    "****"
   ]
  },
  {
   "cell_type": "markdown",
   "id": "4db49852",
   "metadata": {},
   "source": [
    "# Neural Networks"
   ]
  },
  {
   "cell_type": "markdown",
   "id": "c6f065ba",
   "metadata": {},
   "source": [
    "<h2>Terminology</h2><br>\n",
    "Deep Learning Definition:\n",
    "<ul>\n",
    "    <li>A machine learning model that uses a neural networks for learning patterns in data</li></ul>\n",
    "<br>\n",
    "Neural Network:<br>\n",
    "    <ul><li>Network or circuit of neurons (nodes)</li></ul>"
   ]
  },
  {
   "cell_type": "markdown",
   "id": "37b6a1b0",
   "metadata": {},
   "source": [
    "<h4>Neuron?!</h4>"
   ]
  },
  {
   "cell_type": "markdown",
   "id": "ab7e6a0f",
   "metadata": {},
   "source": [
    "A neuron is the basic unit of neural networks. It always receives inputs, does some calculations and outputs a value. \n",
    "<img src=\"neuron_rep.png\" height= 400 width=400>\n",
    "Inputs get multipled by weights\n",
    "<img src=\"calc.png\" height= 200 width=200>\n",
    "The values will be added + some bias\n",
    "<img src=\"calc_2.png\" height= 300 width=300>\n",
    "The sum of the results will go through an activation function\n",
    "<img src=\"calc_3.png\" height= 350 width=350>\n",
    "One example of an activation function is ```sigmoid``` which gives turns the result of the previous step to a value between 0 and 1. The sigmoid function is also known as a logistic function.\n",
    "<img src=\"calc_4.png\" height= 350 width=350>\n",
    "<strong>Simple Neural Network</strong>\n",
    "<img src=\"neural_net_simple.png\" height= 350 width=350>\n",
    "<h6><em>Reference of images: <a href=\"https://victorzhou.com/blog/intro-to-neural-networks/\">Victor Zhou's blog</a><em></h6>"
   ]
  },
  {
   "cell_type": "markdown",
   "id": "c0ebf806",
   "metadata": {},
   "source": [
    "# Example: Classifying Handwritten Numbers "
   ]
  },
  {
   "cell_type": "markdown",
   "id": "7000774b",
   "metadata": {},
   "source": [
    "Reference: Deep learning By Python book (Francois Chollet)"
   ]
  },
  {
   "cell_type": "code",
   "execution_count": 44,
   "id": "006ada9c",
   "metadata": {},
   "outputs": [],
   "source": [
    "#if you don't have tensorflow installed\n",
    "'''\n",
    "!pip intsall tensorflow\n",
    "'''\n",
    "import tensorflow as tf"
   ]
  },
  {
   "cell_type": "code",
   "execution_count": 45,
   "id": "326e0894",
   "metadata": {},
   "outputs": [],
   "source": [
    "mnist = tf.keras.datasets.mnist"
   ]
  },
  {
   "cell_type": "markdown",
   "id": "406b731d",
   "metadata": {},
   "source": [
    "Description of dataset: It is a dataset consisting of handwritten digits 0-9 of sizes 28x28"
   ]
  },
  {
   "cell_type": "markdown",
   "id": "4c29cf39",
   "metadata": {},
   "source": [
    "**Reminder**\n",
    "<ol>\n",
    "    <li> Determine your dataset (What is the shape of the dataset, how large is it?/ Download, import, or visualize ...)</li>\n",
    "    <li> Clean your data (Missing? Outliers? Cannot classify? Duplicates?) </li>\n",
    "    <li> Divide dataset into training and testing data </li>\n",
    "    <li> Build a model </li>\n",
    "    <li> Train the model using the training data </li>\n",
    "    <li> Test the model on test data </li>\n",
    "    <li> Improve the model (Add data, Augment data, change your model) </li>\n",
    "    </ol>"
   ]
  },
  {
   "cell_type": "code",
   "execution_count": 46,
   "id": "0886838a",
   "metadata": {},
   "outputs": [],
   "source": [
    "#import the mnist dataset\n",
    "(X_train, Y_train), (X_test, Y_test) = mnist.load_data()"
   ]
  },
  {
   "cell_type": "code",
   "execution_count": 47,
   "id": "dc8c6f87",
   "metadata": {},
   "outputs": [],
   "source": [
    "#Save for reference in case we change the images later\n",
    "(train_img, train_lab), (test_img, test_lab) = mnist.load_data()"
   ]
  },
  {
   "cell_type": "code",
   "execution_count": 48,
   "id": "f13b7296",
   "metadata": {},
   "outputs": [
    {
     "data": {
      "text/plain": [
       "(60000, 28, 28)"
      ]
     },
     "execution_count": 48,
     "metadata": {},
     "output_type": "execute_result"
    }
   ],
   "source": [
    "#look at the shape of the training dataset\n",
    "X_train.shape"
   ]
  },
  {
   "cell_type": "code",
   "execution_count": 49,
   "id": "7cc6f252",
   "metadata": {},
   "outputs": [
    {
     "data": {
      "text/plain": [
       "(10000, 28, 28)"
      ]
     },
     "execution_count": 49,
     "metadata": {},
     "output_type": "execute_result"
    }
   ],
   "source": [
    "#let's look at the shape of the test dataset as well\n",
    "X_test.shape"
   ]
  },
  {
   "cell_type": "code",
   "execution_count": 50,
   "id": "aca25a52",
   "metadata": {},
   "outputs": [
    {
     "data": {
      "text/plain": [
       "array([[  0,   0,   0,   0,   0,   0,   0,   0,   0,   0,   0,   0,   0,\n",
       "          0,   0,   0,   0,   0,   0,   0,   0,   0,   0,   0,   0,   0,\n",
       "          0,   0],\n",
       "       [  0,   0,   0,   0,   0,   0,   0,   0,   0,   0,   0,   0,   0,\n",
       "          0,   0,   0,   0,   0,   0,   0,   0,   0,   0,   0,   0,   0,\n",
       "          0,   0],\n",
       "       [  0,   0,   0,   0,   0,   0,   0,   0,   0,   0,   0,   0,   0,\n",
       "          0,   0,   0,   0,   0,   0,   0,   0,   0,   0,   0,   0,   0,\n",
       "          0,   0],\n",
       "       [  0,   0,   0,   0,   0,   0,   0,   0,   0,   0,   0,   0,   0,\n",
       "          0,   0,   0,   0,   0,   0,   0,   0,   0,   0,   0,   0,   0,\n",
       "          0,   0],\n",
       "       [  0,   0,   0,   0,   0,   0,   0,   0,   0,   0,   0,   0,   0,\n",
       "          0,   0,   0,   0,   0,   0,   0,   0,   0,   0,   0,   0,   0,\n",
       "          0,   0],\n",
       "       [  0,   0,   0,   0,   0,   0,   0,   0,   0,   0,   0,   0,   3,\n",
       "         18,  18,  18, 126, 136, 175,  26, 166, 255, 247, 127,   0,   0,\n",
       "          0,   0],\n",
       "       [  0,   0,   0,   0,   0,   0,   0,   0,  30,  36,  94, 154, 170,\n",
       "        253, 253, 253, 253, 253, 225, 172, 253, 242, 195,  64,   0,   0,\n",
       "          0,   0],\n",
       "       [  0,   0,   0,   0,   0,   0,   0,  49, 238, 253, 253, 253, 253,\n",
       "        253, 253, 253, 253, 251,  93,  82,  82,  56,  39,   0,   0,   0,\n",
       "          0,   0],\n",
       "       [  0,   0,   0,   0,   0,   0,   0,  18, 219, 253, 253, 253, 253,\n",
       "        253, 198, 182, 247, 241,   0,   0,   0,   0,   0,   0,   0,   0,\n",
       "          0,   0],\n",
       "       [  0,   0,   0,   0,   0,   0,   0,   0,  80, 156, 107, 253, 253,\n",
       "        205,  11,   0,  43, 154,   0,   0,   0,   0,   0,   0,   0,   0,\n",
       "          0,   0],\n",
       "       [  0,   0,   0,   0,   0,   0,   0,   0,   0,  14,   1, 154, 253,\n",
       "         90,   0,   0,   0,   0,   0,   0,   0,   0,   0,   0,   0,   0,\n",
       "          0,   0],\n",
       "       [  0,   0,   0,   0,   0,   0,   0,   0,   0,   0,   0, 139, 253,\n",
       "        190,   2,   0,   0,   0,   0,   0,   0,   0,   0,   0,   0,   0,\n",
       "          0,   0],\n",
       "       [  0,   0,   0,   0,   0,   0,   0,   0,   0,   0,   0,  11, 190,\n",
       "        253,  70,   0,   0,   0,   0,   0,   0,   0,   0,   0,   0,   0,\n",
       "          0,   0],\n",
       "       [  0,   0,   0,   0,   0,   0,   0,   0,   0,   0,   0,   0,  35,\n",
       "        241, 225, 160, 108,   1,   0,   0,   0,   0,   0,   0,   0,   0,\n",
       "          0,   0],\n",
       "       [  0,   0,   0,   0,   0,   0,   0,   0,   0,   0,   0,   0,   0,\n",
       "         81, 240, 253, 253, 119,  25,   0,   0,   0,   0,   0,   0,   0,\n",
       "          0,   0],\n",
       "       [  0,   0,   0,   0,   0,   0,   0,   0,   0,   0,   0,   0,   0,\n",
       "          0,  45, 186, 253, 253, 150,  27,   0,   0,   0,   0,   0,   0,\n",
       "          0,   0],\n",
       "       [  0,   0,   0,   0,   0,   0,   0,   0,   0,   0,   0,   0,   0,\n",
       "          0,   0,  16,  93, 252, 253, 187,   0,   0,   0,   0,   0,   0,\n",
       "          0,   0],\n",
       "       [  0,   0,   0,   0,   0,   0,   0,   0,   0,   0,   0,   0,   0,\n",
       "          0,   0,   0,   0, 249, 253, 249,  64,   0,   0,   0,   0,   0,\n",
       "          0,   0],\n",
       "       [  0,   0,   0,   0,   0,   0,   0,   0,   0,   0,   0,   0,   0,\n",
       "          0,  46, 130, 183, 253, 253, 207,   2,   0,   0,   0,   0,   0,\n",
       "          0,   0],\n",
       "       [  0,   0,   0,   0,   0,   0,   0,   0,   0,   0,   0,   0,  39,\n",
       "        148, 229, 253, 253, 253, 250, 182,   0,   0,   0,   0,   0,   0,\n",
       "          0,   0],\n",
       "       [  0,   0,   0,   0,   0,   0,   0,   0,   0,   0,  24, 114, 221,\n",
       "        253, 253, 253, 253, 201,  78,   0,   0,   0,   0,   0,   0,   0,\n",
       "          0,   0],\n",
       "       [  0,   0,   0,   0,   0,   0,   0,   0,  23,  66, 213, 253, 253,\n",
       "        253, 253, 198,  81,   2,   0,   0,   0,   0,   0,   0,   0,   0,\n",
       "          0,   0],\n",
       "       [  0,   0,   0,   0,   0,   0,  18, 171, 219, 253, 253, 253, 253,\n",
       "        195,  80,   9,   0,   0,   0,   0,   0,   0,   0,   0,   0,   0,\n",
       "          0,   0],\n",
       "       [  0,   0,   0,   0,  55, 172, 226, 253, 253, 253, 253, 244, 133,\n",
       "         11,   0,   0,   0,   0,   0,   0,   0,   0,   0,   0,   0,   0,\n",
       "          0,   0],\n",
       "       [  0,   0,   0,   0, 136, 253, 253, 253, 212, 135, 132,  16,   0,\n",
       "          0,   0,   0,   0,   0,   0,   0,   0,   0,   0,   0,   0,   0,\n",
       "          0,   0],\n",
       "       [  0,   0,   0,   0,   0,   0,   0,   0,   0,   0,   0,   0,   0,\n",
       "          0,   0,   0,   0,   0,   0,   0,   0,   0,   0,   0,   0,   0,\n",
       "          0,   0],\n",
       "       [  0,   0,   0,   0,   0,   0,   0,   0,   0,   0,   0,   0,   0,\n",
       "          0,   0,   0,   0,   0,   0,   0,   0,   0,   0,   0,   0,   0,\n",
       "          0,   0],\n",
       "       [  0,   0,   0,   0,   0,   0,   0,   0,   0,   0,   0,   0,   0,\n",
       "          0,   0,   0,   0,   0,   0,   0,   0,   0,   0,   0,   0,   0,\n",
       "          0,   0]], dtype=uint8)"
      ]
     },
     "execution_count": 50,
     "metadata": {},
     "output_type": "execute_result"
    }
   ],
   "source": [
    "#Let's take a closer look at the dataset\n",
    "X_train[0]"
   ]
  },
  {
   "cell_type": "code",
   "execution_count": 51,
   "id": "60a322d6",
   "metadata": {
    "scrolled": true
   },
   "outputs": [
    {
     "data": {
      "image/png": "[encoded data removed]",
      "text/plain": [
       "<Figure size 432x288 with 1 Axes>"
      ]
     },
     "metadata": {
      "needs_background": "light"
     },
     "output_type": "display_data"
    },
    {
     "data": {
      "image/png": "[encoded data removed]",
      "text/plain": [
       "<Figure size 432x288 with 1 Axes>"
      ]
     },
     "metadata": {
      "needs_background": "light"
     },
     "output_type": "display_data"
    }
   ],
   "source": [
    "#let's plot handwritten numbers using matplotlib\n",
    "import matplotlib.pyplot as plt\n",
    "plt.imshow(X_train[2])\n",
    "plt.show()\n",
    "\n",
    "plt.imshow(X_train[2], plt.cm.binary)\n",
    "plt.show()"
   ]
  },
  {
   "cell_type": "code",
   "execution_count": 52,
   "id": "f086d55f",
   "metadata": {},
   "outputs": [],
   "source": [
    "#normalize pixel values from 0 to 255 to 0 to 1.\n",
    "X_train = tf.keras.utils.normalize(X_train, axis=1)\n",
    "X_test = tf.keras.utils.normalize(X_test, axis=1)"
   ]
  },
  {
   "cell_type": "markdown",
   "id": "7362e9a3",
   "metadata": {},
   "source": [
    "Each data point consists of values between 0 to 255.  After normalization it would be from 0 to 1."
   ]
  },
  {
   "cell_type": "code",
   "execution_count": 53,
   "id": "14aa405e",
   "metadata": {},
   "outputs": [
    {
     "data": {
      "text/plain": [
       "array([[0.        , 0.        , 0.        , 0.        , 0.        ,\n",
       "        0.        , 0.        , 0.        , 0.        , 0.        ,\n",
       "        0.        , 0.        , 0.        , 0.        , 0.        ,\n",
       "        0.        , 0.        , 0.        , 0.        , 0.        ,\n",
       "        0.        , 0.        , 0.        , 0.        , 0.        ,\n",
       "        0.        , 0.        , 0.        ],\n",
       "       [0.        , 0.        , 0.        , 0.        , 0.        ,\n",
       "        0.        , 0.        , 0.        , 0.        , 0.        ,\n",
       "        0.        , 0.        , 0.        , 0.        , 0.        ,\n",
       "        0.        , 0.        , 0.        , 0.        , 0.        ,\n",
       "        0.        , 0.        , 0.        , 0.        , 0.        ,\n",
       "        0.        , 0.        , 0.        ],\n",
       "       [0.        , 0.        , 0.        , 0.        , 0.        ,\n",
       "        0.        , 0.        , 0.        , 0.        , 0.        ,\n",
       "        0.        , 0.        , 0.        , 0.        , 0.        ,\n",
       "        0.        , 0.        , 0.        , 0.        , 0.        ,\n",
       "        0.        , 0.        , 0.        , 0.        , 0.        ,\n",
       "        0.        , 0.        , 0.        ],\n",
       "       [0.        , 0.        , 0.        , 0.        , 0.        ,\n",
       "        0.        , 0.        , 0.        , 0.        , 0.        ,\n",
       "        0.        , 0.        , 0.        , 0.        , 0.        ,\n",
       "        0.        , 0.        , 0.        , 0.        , 0.        ,\n",
       "        0.        , 0.        , 0.        , 0.        , 0.        ,\n",
       "        0.        , 0.        , 0.        ],\n",
       "       [0.        , 0.        , 0.        , 0.        , 0.        ,\n",
       "        0.        , 0.        , 0.        , 0.        , 0.        ,\n",
       "        0.        , 0.        , 0.        , 0.        , 0.        ,\n",
       "        0.        , 0.        , 0.        , 0.        , 0.        ,\n",
       "        0.        , 0.        , 0.        , 0.        , 0.        ,\n",
       "        0.        , 0.        , 0.        ],\n",
       "       [0.        , 0.        , 0.        , 0.        , 0.        ,\n",
       "        0.        , 0.        , 0.        , 0.        , 0.        ,\n",
       "        0.        , 0.        , 0.00393124, 0.02332955, 0.02620568,\n",
       "        0.02625207, 0.17420356, 0.17566281, 0.28629534, 0.05664824,\n",
       "        0.51877786, 0.71632322, 0.77892406, 0.89301644, 0.        ,\n",
       "        0.        , 0.        , 0.        ],\n",
       "       [0.        , 0.        , 0.        , 0.        , 0.        ,\n",
       "        0.        , 0.        , 0.        , 0.05780486, 0.06524513,\n",
       "        0.16128198, 0.22713296, 0.22277047, 0.32790981, 0.36833534,\n",
       "        0.3689874 , 0.34978968, 0.32678448, 0.368094  , 0.3747499 ,\n",
       "        0.79066747, 0.67980478, 0.61494005, 0.45002403, 0.        ,\n",
       "        0.        , 0.        , 0.        ],\n",
       "       [0.        , 0.        , 0.        , 0.        , 0.        ,\n",
       "        0.        , 0.        , 0.12250613, 0.45858525, 0.45852825,\n",
       "        0.43408872, 0.37314701, 0.33153488, 0.32790981, 0.36833534,\n",
       "        0.3689874 , 0.34978968, 0.32420121, 0.15214552, 0.17865984,\n",
       "        0.25626376, 0.1573102 , 0.12298801, 0.        , 0.        ,\n",
       "        0.        , 0.        , 0.        ],\n",
       "       [0.        , 0.        , 0.        , 0.        , 0.        ,\n",
       "        0.        , 0.        , 0.04500225, 0.4219755 , 0.45852825,\n",
       "        0.43408872, 0.37314701, 0.33153488, 0.32790981, 0.28826244,\n",
       "        0.26543758, 0.34149427, 0.31128482, 0.        , 0.        ,\n",
       "        0.        , 0.        , 0.        , 0.        , 0.        ,\n",
       "        0.        , 0.        , 0.        ],\n",
       "       [0.        , 0.        , 0.        , 0.        , 0.        ,\n",
       "        0.        , 0.        , 0.        , 0.1541463 , 0.28272888,\n",
       "        0.18358693, 0.37314701, 0.33153488, 0.26569767, 0.01601458,\n",
       "        0.        , 0.05945042, 0.19891229, 0.        , 0.        ,\n",
       "        0.        , 0.        , 0.        , 0.        , 0.        ,\n",
       "        0.        , 0.        , 0.        ],\n",
       "       [0.        , 0.        , 0.        , 0.        , 0.        ,\n",
       "        0.        , 0.        , 0.        , 0.        , 0.0253731 ,\n",
       "        0.00171577, 0.22713296, 0.33153488, 0.11664776, 0.        ,\n",
       "        0.        , 0.        , 0.        , 0.        , 0.        ,\n",
       "        0.        , 0.        , 0.        , 0.        , 0.        ,\n",
       "        0.        , 0.        , 0.        ],\n",
       "       [0.        , 0.        , 0.        , 0.        , 0.        ,\n",
       "        0.        , 0.        , 0.        , 0.        , 0.        ,\n",
       "        0.        , 0.20500962, 0.33153488, 0.24625638, 0.00291174,\n",
       "        0.        , 0.        , 0.        , 0.        , 0.        ,\n",
       "        0.        , 0.        , 0.        , 0.        , 0.        ,\n",
       "        0.        , 0.        , 0.        ],\n",
       "       [0.        , 0.        , 0.        , 0.        , 0.        ,\n",
       "        0.        , 0.        , 0.        , 0.        , 0.        ,\n",
       "        0.        , 0.01622378, 0.24897876, 0.32790981, 0.10191096,\n",
       "        0.        , 0.        , 0.        , 0.        , 0.        ,\n",
       "        0.        , 0.        , 0.        , 0.        , 0.        ,\n",
       "        0.        , 0.        , 0.        ],\n",
       "       [0.        , 0.        , 0.        , 0.        , 0.        ,\n",
       "        0.        , 0.        , 0.        , 0.        , 0.        ,\n",
       "        0.        , 0.        , 0.04586451, 0.31235677, 0.32757096,\n",
       "        0.23335172, 0.14931733, 0.00129164, 0.        , 0.        ,\n",
       "        0.        , 0.        , 0.        , 0.        , 0.        ,\n",
       "        0.        , 0.        , 0.        ],\n",
       "       [0.        , 0.        , 0.        , 0.        , 0.        ,\n",
       "        0.        , 0.        , 0.        , 0.        , 0.        ,\n",
       "        0.        , 0.        , 0.        , 0.10498298, 0.34940902,\n",
       "        0.3689874 , 0.34978968, 0.15370495, 0.04089933, 0.        ,\n",
       "        0.        , 0.        , 0.        , 0.        , 0.        ,\n",
       "        0.        , 0.        , 0.        ],\n",
       "       [0.        , 0.        , 0.        , 0.        , 0.        ,\n",
       "        0.        , 0.        , 0.        , 0.        , 0.        ,\n",
       "        0.        , 0.        , 0.        , 0.        , 0.06551419,\n",
       "        0.27127137, 0.34978968, 0.32678448, 0.245396  , 0.05882702,\n",
       "        0.        , 0.        , 0.        , 0.        , 0.        ,\n",
       "        0.        , 0.        , 0.        ],\n",
       "       [0.        , 0.        , 0.        , 0.        , 0.        ,\n",
       "        0.        , 0.        , 0.        , 0.        , 0.        ,\n",
       "        0.        , 0.        , 0.        , 0.        , 0.        ,\n",
       "        0.02333517, 0.12857881, 0.32549285, 0.41390126, 0.40743158,\n",
       "        0.        , 0.        , 0.        , 0.        , 0.        ,\n",
       "        0.        , 0.        , 0.        ],\n",
       "       [0.        , 0.        , 0.        , 0.        , 0.        ,\n",
       "        0.        , 0.        , 0.        , 0.        , 0.        ,\n",
       "        0.        , 0.        , 0.        , 0.        , 0.        ,\n",
       "        0.        , 0.        , 0.32161793, 0.41390126, 0.54251585,\n",
       "        0.20001074, 0.        , 0.        , 0.        , 0.        ,\n",
       "        0.        , 0.        , 0.        ],\n",
       "       [0.        , 0.        , 0.        , 0.        , 0.        ,\n",
       "        0.        , 0.        , 0.        , 0.        , 0.        ,\n",
       "        0.        , 0.        , 0.        , 0.        , 0.06697006,\n",
       "        0.18959827, 0.25300993, 0.32678448, 0.41390126, 0.45100715,\n",
       "        0.00625034, 0.        , 0.        , 0.        , 0.        ,\n",
       "        0.        , 0.        , 0.        ],\n",
       "       [0.        , 0.        , 0.        , 0.        , 0.        ,\n",
       "        0.        , 0.        , 0.        , 0.        , 0.        ,\n",
       "        0.        , 0.        , 0.05110617, 0.19182076, 0.33339444,\n",
       "        0.3689874 , 0.34978968, 0.32678448, 0.40899334, 0.39653769,\n",
       "        0.        , 0.        , 0.        , 0.        , 0.        ,\n",
       "        0.        , 0.        , 0.        ],\n",
       "       [0.        , 0.        , 0.        , 0.        , 0.        ,\n",
       "        0.        , 0.        , 0.        , 0.        , 0.        ,\n",
       "        0.04117838, 0.16813739, 0.28960162, 0.32790981, 0.36833534,\n",
       "        0.3689874 , 0.34978968, 0.25961929, 0.12760592, 0.        ,\n",
       "        0.        , 0.        , 0.        , 0.        , 0.        ,\n",
       "        0.        , 0.        , 0.        ],\n",
       "       [0.        , 0.        , 0.        , 0.        , 0.        ,\n",
       "        0.        , 0.        , 0.        , 0.04431706, 0.11961607,\n",
       "        0.36545809, 0.37314701, 0.33153488, 0.32790981, 0.36833534,\n",
       "        0.28877275, 0.111988  , 0.00258328, 0.        , 0.        ,\n",
       "        0.        , 0.        , 0.        , 0.        , 0.        ,\n",
       "        0.        , 0.        , 0.        ],\n",
       "       [0.        , 0.        , 0.        , 0.        , 0.        ,\n",
       "        0.        , 0.05298497, 0.42752138, 0.4219755 , 0.45852825,\n",
       "        0.43408872, 0.37314701, 0.33153488, 0.25273681, 0.11646967,\n",
       "        0.01312603, 0.        , 0.        , 0.        , 0.        ,\n",
       "        0.        , 0.        , 0.        , 0.        , 0.        ,\n",
       "        0.        , 0.        , 0.        ],\n",
       "       [0.        , 0.        , 0.        , 0.        , 0.37491383,\n",
       "        0.56222061, 0.66525569, 0.63253163, 0.48748768, 0.45852825,\n",
       "        0.43408872, 0.359873  , 0.17428513, 0.01425695, 0.        ,\n",
       "        0.        , 0.        , 0.        , 0.        , 0.        ,\n",
       "        0.        , 0.        , 0.        , 0.        , 0.        ,\n",
       "        0.        , 0.        , 0.        ],\n",
       "       [0.        , 0.        , 0.        , 0.        , 0.92705966,\n",
       "        0.82698729, 0.74473314, 0.63253163, 0.4084877 , 0.24466922,\n",
       "        0.22648107, 0.02359823, 0.        , 0.        , 0.        ,\n",
       "        0.        , 0.        , 0.        , 0.        , 0.        ,\n",
       "        0.        , 0.        , 0.        , 0.        , 0.        ,\n",
       "        0.        , 0.        , 0.        ],\n",
       "       [0.        , 0.        , 0.        , 0.        , 0.        ,\n",
       "        0.        , 0.        , 0.        , 0.        , 0.        ,\n",
       "        0.        , 0.        , 0.        , 0.        , 0.        ,\n",
       "        0.        , 0.        , 0.        , 0.        , 0.        ,\n",
       "        0.        , 0.        , 0.        , 0.        , 0.        ,\n",
       "        0.        , 0.        , 0.        ],\n",
       "       [0.        , 0.        , 0.        , 0.        , 0.        ,\n",
       "        0.        , 0.        , 0.        , 0.        , 0.        ,\n",
       "        0.        , 0.        , 0.        , 0.        , 0.        ,\n",
       "        0.        , 0.        , 0.        , 0.        , 0.        ,\n",
       "        0.        , 0.        , 0.        , 0.        , 0.        ,\n",
       "        0.        , 0.        , 0.        ],\n",
       "       [0.        , 0.        , 0.        , 0.        , 0.        ,\n",
       "        0.        , 0.        , 0.        , 0.        , 0.        ,\n",
       "        0.        , 0.        , 0.        , 0.        , 0.        ,\n",
       "        0.        , 0.        , 0.        , 0.        , 0.        ,\n",
       "        0.        , 0.        , 0.        , 0.        , 0.        ,\n",
       "        0.        , 0.        , 0.        ]])"
      ]
     },
     "execution_count": 53,
     "metadata": {},
     "output_type": "execute_result"
    }
   ],
   "source": [
    "X_train[0]"
   ]
  },
  {
   "cell_type": "code",
   "execution_count": 54,
   "id": "c29caf72",
   "metadata": {},
   "outputs": [],
   "source": [
    "#build your model\n",
    "from keras import models\n",
    "from keras import layers\n",
    "model = models.Sequential()\n",
    "model.add(layers.Dense(512, activation='relu', input_shape=(28 * 28,)))\n",
    "model.add(layers.Dense(10, activation='softmax'))"
   ]
  },
  {
   "cell_type": "markdown",
   "id": "76a7acd3",
   "metadata": {},
   "source": [
    "Relu activation: \n",
    "    <img src=\"https://upload.wikimedia.org/wikipedia/commons/4/42/ReLU_and_GELU.svg\">"
   ]
  },
  {
   "cell_type": "markdown",
   "id": "f095df91",
   "metadata": {},
   "source": [
    "Softmax Activation: \n",
    "    Generalization of the logistic (sigmoid) function. Therefore instead of giving you results for only two classes, it can give you the probability of your result over different classes. \n",
    "    <img src=\"softmax.png\" width=400, height=400>"
   ]
  },
  {
   "cell_type": "markdown",
   "id": "929458da",
   "metadata": {},
   "source": [
    "<h3>Optimizer</h3><br>\n",
    "To make the network ready for training, we need to pick three more things, as part\n",
    "of the compilation step:<br><ul>\n",
    "<li> A loss function—How the network will be able to measure its performance on the training data, and thus how it will be able to steer itself in the right direction.</li>\n",
    "<li> An optimizer—The mechanism through which the network will update itself based on the data it sees and its loss function.</li>\n",
    "<li> Metrics to monitor during training and testing—Here, we’ll only care about accuracy (the fraction of the images that were correctly classified).</li>\n",
    "</ul>"
   ]
  },
  {
   "cell_type": "code",
   "execution_count": 55,
   "id": "615dbe2b",
   "metadata": {},
   "outputs": [
    {
     "data": {
      "text/plain": [
       "'\\nRMSProp, is an extension of gradient descent. It uses a decaying average \\nof partial gradients for each parameter.\\ncategorical_crossentropy: computes the loss between the labels and predictions. Used for multi-class classification\\n'"
      ]
     },
     "execution_count": 55,
     "metadata": {},
     "output_type": "execute_result"
    }
   ],
   "source": [
    "model.compile(optimizer='rmsprop',\n",
    "                loss='categorical_crossentropy',\n",
    "                metrics=['accuracy'])\n",
    "'''\n",
    "RMSProp, is an extension of gradient descent. It uses a decaying average \n",
    "of partial gradients for each parameter.\n",
    "categorical_crossentropy: computes the loss between the labels and predictions. Used for multi-class classification\n",
    "'''\n"
   ]
  },
  {
   "cell_type": "code",
   "execution_count": 56,
   "id": "5c0cfd30",
   "metadata": {},
   "outputs": [],
   "source": [
    "#reshape images\n",
    "X_train = X_train.reshape((60000, 28 * 28))\n",
    "X_train = X_train.astype('float32') / 255\n",
    "X_test = X_test.reshape((10000, 28 * 28))\n",
    "X_test = X_test.astype('float32') / 255"
   ]
  },
  {
   "cell_type": "code",
   "execution_count": 57,
   "id": "1058c788",
   "metadata": {},
   "outputs": [],
   "source": [
    "#convert labels to categorical\n",
    "from tensorflow.keras.utils import to_categorical\n",
    "Y_train = to_categorical(Y_train)\n",
    "Y_test = to_categorical(Y_test)"
   ]
  },
  {
   "cell_type": "code",
   "execution_count": 58,
   "id": "56e19992",
   "metadata": {},
   "outputs": [
    {
     "name": "stdout",
     "output_type": "stream",
     "text": [
      "Epoch 1/5\n",
      "1875/1875 [==============================] - 9s 5ms/step - loss: 1.3024 - accuracy: 0.6695\n",
      "Epoch 2/5\n",
      "1875/1875 [==============================] - 8s 4ms/step - loss: 0.5346 - accuracy: 0.8558\n",
      "Epoch 3/5\n",
      "1875/1875 [==============================] - 10s 5ms/step - loss: 0.4073 - accuracy: 0.8854\n",
      "Epoch 4/5\n",
      "1875/1875 [==============================] - 8s 4ms/step - loss: 0.3579 - accuracy: 0.8977\n",
      "Epoch 5/5\n",
      "1875/1875 [==============================] - 8s 4ms/step - loss: 0.3304 - accuracy: 0.9058\n"
     ]
    }
   ],
   "source": [
    "#extract the history of validation and accuracy loss over epochs\n",
    "history = model.fit(X_train, Y_train, epochs=5)"
   ]
  },
  {
   "cell_type": "code",
   "execution_count": 59,
   "id": "be881916",
   "metadata": {},
   "outputs": [
    {
     "name": "stdout",
     "output_type": "stream",
     "text": [
      "313/313 [==============================] - 1s 3ms/step - loss: 0.3122 - accuracy: 0.9106\n"
     ]
    }
   ],
   "source": [
    "#evaluate loss and accuracy on test data\n",
    "val_loss, val_acc = model.evaluate(X_test, Y_test)"
   ]
  },
  {
   "cell_type": "code",
   "execution_count": 60,
   "id": "25fc74b2",
   "metadata": {},
   "outputs": [
    {
     "name": "stdout",
     "output_type": "stream",
     "text": [
      "dict_keys(['loss', 'accuracy'])\n"
     ]
    }
   ],
   "source": [
    "#let's see the keys from history\n",
    "print(history.history.keys())"
   ]
  },
  {
   "cell_type": "code",
   "execution_count": 61,
   "id": "59714bf6",
   "metadata": {},
   "outputs": [
    {
     "data": {
      "image/png": "[encoded data removed]",
      "text/plain": [
       "<Figure size 432x288 with 1 Axes>"
      ]
     },
     "metadata": {
      "needs_background": "light"
     },
     "output_type": "display_data"
    }
   ],
   "source": [
    "#plot validation loss and accuracy\n",
    "acc_train = history.history['accuracy']\n",
    "loss_train = history.history['loss']\n",
    "epochs = range(0,5)\n",
    "plt.plot(epochs, loss_train, 'g', label='Training loss')\n",
    "plt.plot(epochs, acc_train, 'b', label='Training loss')\n",
    "plt.title('Training accuracy and loss')\n",
    "plt.xlabel('Epochs')\n",
    "plt.ylabel('Loss or accuracy')\n",
    "plt.legend()\n",
    "plt.show()"
   ]
  },
  {
   "cell_type": "code",
   "execution_count": 62,
   "id": "e95b7985",
   "metadata": {},
   "outputs": [
    {
     "name": "stdout",
     "output_type": "stream",
     "text": [
      "INFO:tensorflow:Assets written to: number_classifier.model/assets\n"
     ]
    }
   ],
   "source": [
    "#save the model\n",
    "model.save('number_classifier.model')"
   ]
  },
  {
   "cell_type": "code",
   "execution_count": 63,
   "id": "b753e4a1",
   "metadata": {},
   "outputs": [],
   "source": [
    "#load the model\n",
    "model = tf.keras.models.load_model('number_classifier.model')"
   ]
  },
  {
   "cell_type": "code",
   "execution_count": 64,
   "id": "fee30509",
   "metadata": {},
   "outputs": [],
   "source": [
    "#predict the test labels\n",
    "preds = model.predict([X_test])"
   ]
  },
  {
   "cell_type": "code",
   "execution_count": 65,
   "id": "3e4ad4c0",
   "metadata": {
    "scrolled": true
   },
   "outputs": [
    {
     "data": {
      "text/plain": [
       "array([[5.2071864e-06, 4.2051614e-08, 4.2337924e-06, ..., 9.9913752e-01,\n",
       "        6.1703859e-06, 5.6585582e-04],\n",
       "       [3.8323991e-04, 2.2511257e-04, 9.9213988e-01, ..., 4.1620627e-09,\n",
       "        1.1288491e-03, 9.3179784e-09],\n",
       "       [8.7789675e-07, 9.9547184e-01, 2.4085504e-03, ..., 2.9822584e-04,\n",
       "        5.6461245e-04, 5.1468865e-05],\n",
       "       ...,\n",
       "       [3.1062757e-07, 2.8044886e-05, 4.5796671e-05, ..., 2.4602634e-03,\n",
       "        3.1879190e-03, 7.6654747e-02],\n",
       "       [6.2413616e-03, 1.4513241e-04, 3.4338885e-04, ..., 1.0330250e-04,\n",
       "        2.1394287e-01, 2.6677089e-04],\n",
       "       [9.3767565e-04, 5.3265232e-08, 1.7720064e-03, ..., 2.7580836e-07,\n",
       "        6.5948088e-06, 1.3241441e-06]], dtype=float32)"
      ]
     },
     "execution_count": 65,
     "metadata": {},
     "output_type": "execute_result"
    }
   ],
   "source": [
    "#print predictions\n",
    "preds"
   ]
  },
  {
   "cell_type": "code",
   "execution_count": 66,
   "id": "47a9c3a8",
   "metadata": {},
   "outputs": [
    {
     "data": {
      "text/plain": [
       "array([5.2071864e-06, 4.2051614e-08, 4.2337924e-06, 2.7757656e-04,\n",
       "       4.2477570e-08, 3.2833361e-06, 1.0990883e-09, 9.9913752e-01,\n",
       "       6.1703859e-06, 5.6585582e-04], dtype=float32)"
      ]
     },
     "execution_count": 66,
     "metadata": {},
     "output_type": "execute_result"
    }
   ],
   "source": [
    "#let's look at one image\n",
    "preds[0]"
   ]
  },
  {
   "cell_type": "code",
   "execution_count": 67,
   "id": "8c6b2e64",
   "metadata": {
    "scrolled": true
   },
   "outputs": [
    {
     "name": "stdout",
     "output_type": "stream",
     "text": [
      "7\n"
     ]
    }
   ],
   "source": [
    "print(np.argmax(preds[0]))"
   ]
  },
  {
   "cell_type": "code",
   "execution_count": 68,
   "id": "7f54caf3",
   "metadata": {
    "scrolled": false
   },
   "outputs": [
    {
     "data": {
      "image/png": "[encoded data removed]",
      "text/plain": [
       "<Figure size 432x288 with 1 Axes>"
      ]
     },
     "metadata": {
      "needs_background": "light"
     },
     "output_type": "display_data"
    }
   ],
   "source": [
    "plt.imshow(test_img[0])\n",
    "plt.show()"
   ]
  },
  {
   "cell_type": "markdown",
   "id": "bd14444d",
   "metadata": {},
   "source": [
    "Seems like it matches the actual handwritten drawing :))"
   ]
  },
  {
   "cell_type": "markdown",
   "id": "fd9e1c6f",
   "metadata": {},
   "source": [
    "# Test on your own handwriting"
   ]
  },
  {
   "cell_type": "code",
   "execution_count": 74,
   "id": "ebfb5a68",
   "metadata": {},
   "outputs": [],
   "source": [
    "from PIL import Image\n",
    "file_name = \"six.png\"\n",
    "my_img = Image.open(file_name).convert('L')\n",
    "my_img = np.invert(my_img)\n",
    "my_data = np.asarray(my_img)"
   ]
  },
  {
   "cell_type": "code",
   "execution_count": 75,
   "id": "48a3c85a",
   "metadata": {},
   "outputs": [
    {
     "data": {
      "text/plain": [
       "<matplotlib.image.AxesImage at 0x7ffe1b12cd90>"
      ]
     },
     "execution_count": 75,
     "metadata": {},
     "output_type": "execute_result"
    },
    {
     "data": {
      "image/png": "[encoded data removed]",
      "text/plain": [
       "<Figure size 432x288 with 1 Axes>"
      ]
     },
     "metadata": {
      "needs_background": "light"
     },
     "output_type": "display_data"
    }
   ],
   "source": [
    "plt.imshow(my_img, plt.cm.binary)"
   ]
  },
  {
   "cell_type": "code",
   "execution_count": 76,
   "id": "4101e2f6",
   "metadata": {},
   "outputs": [],
   "source": [
    "my_data = my_data.reshape((1, 28 * 28))\n",
    "my_data = my_data.astype('float32') / 255"
   ]
  },
  {
   "cell_type": "code",
   "execution_count": 77,
   "id": "997bd216",
   "metadata": {},
   "outputs": [
    {
     "data": {
      "text/plain": [
       "array([[0., 0., 0., 0., 0., 0., 0., 0., 1., 0.]], dtype=float32)"
      ]
     },
     "execution_count": 77,
     "metadata": {},
     "output_type": "execute_result"
    }
   ],
   "source": [
    "model.predict([my_data])"
   ]
  },
  {
   "cell_type": "code",
   "execution_count": 78,
   "id": "f7244e0a",
   "metadata": {
    "scrolled": true
   },
   "outputs": [
    {
     "data": {
      "text/plain": [
       "8"
      ]
     },
     "execution_count": 78,
     "metadata": {},
     "output_type": "execute_result"
    }
   ],
   "source": [
    "np.argmax(model.predict(my_data))"
   ]
  },
  {
   "cell_type": "markdown",
   "id": "3df7c8b4",
   "metadata": {},
   "source": [
    "Fall 2021 <br>\n",
    "Texas A&M University <br>\n",
    "Texas, **=="
   ]
  }
 ],
 "metadata": {
  "kernelspec": {
   "display_name": "Python 3",
   "language": "python",
   "name": "python3"
  },
  "language_info": {
   "codemirror_mode": {
    "name": "ipython",
    "version": 3
   },
   "file_extension": ".py",
   "mimetype": "text/x-python",
   "name": "python",
   "nbconvert_exporter": "python",
   "pygments_lexer": "ipython3",
   "version": "3.8.8"
  }
 },
 "nbformat": 4,
 "nbformat_minor": 5
}
